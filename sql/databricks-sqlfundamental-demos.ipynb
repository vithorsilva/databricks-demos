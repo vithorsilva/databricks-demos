{
 "cells": [
  {
   "cell_type": "markdown",
   "metadata": {
    "application/vnd.databricks.v1+cell": {
     "cellMetadata": {},
     "inputWidgets": {},
     "nuid": "c4fd1592-0833-4de1-af7b-4066297eda59",
     "showTitle": false,
     "tableResultSettingsMap": {},
     "title": ""
    }
   },
   "source": [
    "# Databricks - SQL Demo\n",
    "* **Autor:** Vithor da Silva e Silva\n",
    "* **Contato:** vithor@datasource.expert / https://github.com/vithorsilva\n",
    "* **Data:** 2024-10-03\n",
    "* **Objetivo:** Demonstrar comandos essenciais da linguagem SQL aplicado no Databricks"
   ]
  },
  {
   "cell_type": "markdown",
   "metadata": {
    "application/vnd.databricks.v1+cell": {
     "cellMetadata": {},
     "inputWidgets": {},
     "nuid": "b024143d-8322-4d8c-b1f2-df4931eec544",
     "showTitle": false,
     "tableResultSettingsMap": {},
     "title": ""
    }
   },
   "source": [
    "**Sobre: nyctaxi**\n",
    "Este é o banco de demonstração já disponível em todo workspace Databricks no catalogo samples."
   ]
  },
  {
   "cell_type": "code",
   "execution_count": 0,
   "metadata": {
    "application/vnd.databricks.v1+cell": {
     "cellMetadata": {
      "byteLimit": 2048000,
      "rowLimit": 10000
     },
     "inputWidgets": {},
     "nuid": "d5b476cb-d35e-456c-8df4-d1e3203dec2a",
     "showTitle": false,
     "tableResultSettingsMap": {},
     "title": ""
    }
   },
   "outputs": [],
   "source": [
    "use samples.tpch"
   ]
  },
  {
   "cell_type": "code",
   "execution_count": 0,
   "metadata": {
    "application/vnd.databricks.v1+cell": {
     "cellMetadata": {
      "byteLimit": 2048000,
      "rowLimit": 10000
     },
     "inputWidgets": {},
     "nuid": "f906ac74-262f-4e6d-af05-41ce8a347431",
     "showTitle": false,
     "tableResultSettingsMap": {},
     "title": ""
    }
   },
   "outputs": [],
   "source": [
    "show tables"
   ]
  },
  {
   "cell_type": "markdown",
   "metadata": {
    "application/vnd.databricks.v1+cell": {
     "cellMetadata": {},
     "inputWidgets": {},
     "nuid": "ae5f70ce-9b15-46f4-818b-8782e3d99416",
     "showTitle": false,
     "tableResultSettingsMap": {},
     "title": ""
    }
   },
   "source": [
    "# SELECT - Fundamental"
   ]
  },
  {
   "cell_type": "markdown",
   "metadata": {
    "application/vnd.databricks.v1+cell": {
     "cellMetadata": {},
     "inputWidgets": {},
     "nuid": "962344b8-57e3-40da-97d6-0a5a57ec1ace",
     "showTitle": false,
     "tableResultSettingsMap": {},
     "title": ""
    }
   },
   "source": [
    "## 1. Básico\n",
    "A clausula mais básica é sem dúvidas a SELECT * FROM OBJETO, onde todas colunas e linhas serão exibidas do objeto (tabela ou view) que você solicitar."
   ]
  },
  {
   "cell_type": "code",
   "execution_count": 0,
   "metadata": {
    "application/vnd.databricks.v1+cell": {
     "cellMetadata": {
      "byteLimit": 2048000,
      "rowLimit": 10000
     },
     "inputWidgets": {},
     "nuid": "0ab6eaed-dd46-4595-9a15-6df8a3133524",
     "showTitle": false,
     "tableResultSettingsMap": {},
     "title": ""
    }
   },
   "outputs": [],
   "source": [
    "select * from orders;"
   ]
  },
  {
   "cell_type": "markdown",
   "metadata": {
    "application/vnd.databricks.v1+cell": {
     "cellMetadata": {},
     "inputWidgets": {},
     "nuid": "fb548840-dd14-46c2-a941-65c8d40bcce7",
     "showTitle": false,
     "tableResultSettingsMap": {},
     "title": ""
    }
   },
   "source": [
    "Imaginando que o objeto selecionado pode conter milhões de registros, recomenda-se sempre a inclusão de um limit para trabalhar assim com uma amostra de dados."
   ]
  },
  {
   "cell_type": "code",
   "execution_count": 0,
   "metadata": {
    "application/vnd.databricks.v1+cell": {
     "cellMetadata": {
      "byteLimit": 2048000,
      "rowLimit": 10000
     },
     "inputWidgets": {},
     "nuid": "1502650c-4928-405a-bfc1-21867947729b",
     "showTitle": false,
     "tableResultSettingsMap": {},
     "title": ""
    }
   },
   "outputs": [],
   "source": [
    "select * from orders limit 100;"
   ]
  },
  {
   "cell_type": "markdown",
   "metadata": {
    "application/vnd.databricks.v1+cell": {
     "cellMetadata": {},
     "inputWidgets": {},
     "nuid": "ea7bd2f9-edc2-4328-a2d6-4925da3d78b6",
     "showTitle": false,
     "tableResultSettingsMap": {},
     "title": ""
    }
   },
   "source": [
    "## 2. Filtrando\n",
    "Esta consulta SQL recupera todas as colunas (*) da tabela orders, que é referenciada como o. Ela filtra os resultados para incluir apenas as linhas onde a coluna o_orderstatus tem o valor 'F'. \n",
    "O alias o é usado para simplificar a referência à tabela orders dentro da consulta."
   ]
  },
  {
   "cell_type": "code",
   "execution_count": 0,
   "metadata": {
    "application/vnd.databricks.v1+cell": {
     "cellMetadata": {
      "byteLimit": 2048000,
      "rowLimit": 10000
     },
     "inputWidgets": {},
     "nuid": "9f068da4-5f0f-418d-a910-845c3c58f43c",
     "showTitle": false,
     "tableResultSettingsMap": {},
     "title": ""
    }
   },
   "outputs": [],
   "source": [
    "SELECT * \n",
    "FROM orders as o\n",
    "where \n",
    "  o.o_orderstatus = 'F' AND o.o_orderdate >= '1992-01-01' AND o.o_orderdate <= '1992-12-31' \n",
    "  -- OR o.o_orderpriority = '1-URGENT'\n",
    "  AND o.o_totalprice BETWEEN 50000 AND 100000 \n",
    "  AND o.o_custkey NOT BETWEEN 0 AND 1000\n",
    "  AND o.o_orderpriority NOT IN ('1-URGENT', '2-HIGH', '3-MEDIUM')"
   ]
  },
  {
   "cell_type": "markdown",
   "metadata": {
    "application/vnd.databricks.v1+cell": {
     "cellMetadata": {},
     "inputWidgets": {},
     "nuid": "3e8ed294-6dc8-4b07-b4d9-c8777e677e6e",
     "showTitle": false,
     "tableResultSettingsMap": {},
     "title": ""
    }
   },
   "source": [
    "### 2.1.1 Gabarito"
   ]
  },
  {
   "cell_type": "code",
   "execution_count": 0,
   "metadata": {
    "application/vnd.databricks.v1+cell": {
     "cellMetadata": {},
     "inputWidgets": {},
     "nuid": "515e972b-1a3a-47dc-8cc3-1935d4811afd",
     "showTitle": false,
     "tableResultSettingsMap": {},
     "title": ""
    }
   },
   "outputs": [],
   "source": [
    "SELECT * \n",
    "FROM orders as o\n",
    "where \n",
    "  o.o_orderstatus = 'F' AND o.o_orderdate >= '1992-01-01' AND o.o_orderdate <= '1992-12-31' \n",
    "  -- OR o.o_orderpriority = '1-URGENT'\n",
    "  AND o.o_totalprice BETWEEN 50000 AND 100000 \n",
    "  AND o.o_custkey NOT BETWEEN 0 AND 1000\n",
    "  AND o.o_orderpriority NOT IN ('1-URGENT', '2-HIGH', '3-MEDIUM')"
   ]
  },
  {
   "cell_type": "markdown",
   "metadata": {
    "application/vnd.databricks.v1+cell": {
     "cellMetadata": {},
     "inputWidgets": {},
     "nuid": "131e3ab3-858d-4f81-9626-116bfb94de7f",
     "showTitle": false,
     "tableResultSettingsMap": {},
     "title": ""
    }
   },
   "source": [
    "## 3. Colunas\n",
    "\n",
    "Esta consulta SQL recupera detalhes específicos da tabela orders para pedidos que têm o status 'F'. Aqui está uma explicação de cada parte da consulta:\n",
    "\n",
    "* SELECT: Especifica as colunas a serem recuperadas que são:\n",
    "  * o.o_orderkey\n",
    "  * o.o_custkey\n",
    "  * o.o_totalprice\n",
    "  * year(o.o_orderdate) as year: Extrai o ano da data do pedido e o rotula como year.\n",
    "  * o.o_orderpriority as priority: Recupera a prioridade do pedido e a rotula como priority.\n",
    "* FROM orders as o: Especifica a tabela orders como a fonte dos dados e atribui a ela o alias o.\n",
    "* WHERE o.o_orderstatus = 'F': Filtra os resultados para incluir apenas os pedidos onde o status do pedido é 'F'.\n",
    "\n",
    "Em resumo, a consulta busca a chave do pedido, a chave do cliente, o preço total, o ano da data do pedido e a prioridade do pedido para todos os pedidos com status 'F'.\n"
   ]
  },
  {
   "cell_type": "markdown",
   "metadata": {
    "application/vnd.databricks.v1+cell": {
     "cellMetadata": {},
     "inputWidgets": {},
     "nuid": "ef3b3fa9-3107-43fa-bc40-f24e8f0ded33",
     "showTitle": false,
     "tableResultSettingsMap": {},
     "title": ""
    }
   },
   "source": [
    "### 3.1 Tipos de Dados\n",
    "\n",
    "Documente os tipos de dados que o Databricks tem suporte:\n",
    "\n",
    "**Integral numeric types** representam números inteiros:\n",
    "- TINYINT\n",
    "- SMALLINT\n",
    "- INT\n",
    "- BIGINT\n",
    "\n",
    "**Exact numeric types** representam números base-10:\n",
    "- Integral numeric\n",
    "- DECIMAL\n",
    "\n",
    "**Binary floating point types** usam expoentes e uma representação binária para cobrir uma grande faixa de números:\n",
    "- FLOAT\n",
    "- DOUBLE\n",
    "\n",
    "**Numeric types** representam todos os tipos de dados numéricos:\n",
    "- Exact numeric\n",
    "- Binary floating point\n",
    "\n",
    "**Date-time types** representam componentes de data e hora:\n",
    "- DATE\n",
    "- TIMESTAMP\n",
    "- TIMESTAMP_NTZ\n",
    "\n",
    "**Simple types** são tipos definidos por valores únicos:\n",
    "- Numeric\n",
    "- Date-time\n",
    "- BINARY\n",
    "- BOOLEAN\n",
    "- INTERVAL\n",
    "- STRING\n",
    "\n",
    "**Complex types** são compostos de múltiplos componentes de tipos complexos ou simples:\n",
    "- ARRAY\n",
    "- MAP\n",
    "- STRUCT\n",
    "- VARIANT\n",
    "- OBJECT\n",
    "\n",
    "Leia mais em [Microsoft | Data type classification](https://learn.microsoft.com/en-us/azure/databricks/sql/language-manual/sql-ref-datatypes)"
   ]
  },
  {
   "cell_type": "code",
   "execution_count": 0,
   "metadata": {
    "application/vnd.databricks.v1+cell": {
     "cellMetadata": {
      "byteLimit": 2048000,
      "rowLimit": 10000
     },
     "inputWidgets": {},
     "nuid": "6d71b437-9ce0-415c-bd87-c3ca764913af",
     "showTitle": false,
     "tableResultSettingsMap": {},
     "title": ""
    }
   },
   "outputs": [],
   "source": [
    "SELECT \n",
    "  o.o_orderkey, \n",
    "  o.o_custkey, \n",
    "  o.o_totalprice, \n",
    "  year(o.o_orderdate) as year, \n",
    "  o.o_orderpriority as priority\n",
    "FROM orders as o\n",
    "where o.o_orderstatus = 'F'"
   ]
  },
  {
   "cell_type": "markdown",
   "metadata": {
    "application/vnd.databricks.v1+cell": {
     "cellMetadata": {},
     "inputWidgets": {},
     "nuid": "c4000e80-185e-4ac7-9bd5-e5fc64d5c307",
     "showTitle": false,
     "tableResultSettingsMap": {},
     "title": ""
    }
   },
   "source": [
    "## 4. Funções (introdução)"
   ]
  },
  {
   "cell_type": "markdown",
   "metadata": {
    "application/vnd.databricks.v1+cell": {
     "cellMetadata": {},
     "inputWidgets": {},
     "nuid": "ead67a46-cb13-44d2-bdbe-40cc5e272c6d",
     "showTitle": false,
     "tableResultSettingsMap": {},
     "title": ""
    }
   },
   "source": [
    "### Funções no Databricks\n",
    "\n",
    "No Databricks, funções internas (Built-in functions) são usadas para realizar operações específicas em dados, como manipulação de strings, cálculos matemáticos, operações de data e hora, entre outras. Elas ajudam a transformar e analisar dados de maneira eficiente.\n",
    "\n",
    "### Principais Funções por Categoria\n",
    "\n",
    "#### String and Binary Functions\n",
    "- `upper()`: Converte uma string para maiúsculas.\n",
    "- `lower()`: Converte uma string para minúsculas.\n",
    "- `split()`: Divide uma string em uma lista com base em um delimitador.\n",
    "- `concat()`: Concatena duas ou mais strings.\n",
    "- `length()`: Retorna o comprimento de uma string.\n",
    "\n",
    "#### Numeric Scalar Functions\n",
    "- `round()`: Arredonda um número para um número especificado de casas decimais.\n",
    "- `abs()`: Retorna o valor absoluto de um número.\n",
    "- `sqrt()`: Calcula a raiz quadrada de um número.\n",
    "\n",
    "#### Aggregate Functions\n",
    "- `sum()`: Calcula a soma de uma coluna.\n",
    "- `avg()`: Calcula a média de uma coluna.\n",
    "- `count()`: Conta o número de linhas em uma coluna.\n",
    "\n",
    "#### Ranking Window Functions\n",
    "- `rank()`: Atribui um número de classificação a cada fila dentro de uma partição.\n",
    "- `dense_rank()`: Similar ao `rank()`, mas sem lacunas nos números de classificação.\n",
    "- `row_number()`: Atribui um número único a cada fila dentro de uma partição.\n",
    "\n",
    "#### Analytic Window Functions\n",
    "- `lead()`: Retorna o valor da próxima linha na partição.\n",
    "- `lag()`: Retorna o valor da linha anterior na partição.\n",
    "- `cume_dist()`: Calcula a distribuição cumulativa de valores em uma partição.\n",
    "\n",
    "#### Array Functions\n",
    "- `array()`: Cria um array.\n",
    "- `array_contains()`: Verifica se um array contém um valor específico.\n",
    "- `size()`: Retorna o tamanho de um array.\n",
    "\n",
    "#### Map Functions\n",
    "- `map()`: Cria um mapa.\n",
    "- `map_keys()`: Retorna as chaves de um mapa.\n",
    "- `map_values()`: Retorna os valores de um mapa.\n",
    "\n",
    "#### Date, Timestamp, and Interval Functions\n",
    "- `year()`: Extrai o ano de uma data.\n",
    "- `month()`: Extrai o mês de uma data.\n",
    "- `day()`: Extrai o dia de uma data.\n",
    "- `weekofyear()`: Retorna a semana do ano de uma data.\n",
    "- `date_format()`: Formata uma data de acordo com um padrão especificado.\n",
    "\n",
    "#### Cast Functions and Constructors\n",
    "- `cast()`: Converte um valor de um tipo de dado para outro.\n",
    "- `struct()`: Cria uma estrutura com campos nomeados.\n",
    "\n",
    "#### CSV and Avro Functions\n",
    "- `from_csv()`: Converte uma string CSV em uma estrutura.\n",
    "- `to_csv()`: Converte uma estrutura em uma string CSV.\n",
    "\n",
    "#### JSON Functions\n",
    "- `from_json()`: Converte uma string JSON em uma estrutura.\n",
    "- `to_json()`: Converte uma estrutura em uma string JSON. \n",
    "\n",
    "#### XPath and XML Functions\n",
    "- `xpath()`: Avalia uma expressão XPath em um XML.\n",
    "\n",
    "#### Read Functions\n",
    "- `read_files()`: Lê arquivos de dados no armazenamento em nuvem e os retorna em formato tabular.\n",
    "\n",
    "#### Miscellaneous Functions\n",
    "- `coalesce()`: Retorna o primeiro valor não nulo em uma lista de argumentos.\n",
    "- `ifnull()`: Retorna um valor alternativo se o valor for nulo.\n",
    "\n",
    "Essas funções são amplamente utilizadas para manipulação e análise de dados no Databricks, facilitando a criação de consultas SQL complexas e transformações de dados."
   ]
  },
  {
   "cell_type": "code",
   "execution_count": 0,
   "metadata": {
    "application/vnd.databricks.v1+cell": {
     "cellMetadata": {
      "byteLimit": 2048000,
      "rowLimit": 10000
     },
     "inputWidgets": {},
     "nuid": "a2e108df-a663-49f4-867f-e5de7f7e7dae",
     "showTitle": false,
     "tableResultSettingsMap": {
      "0": {
       "filterBlob": "{\"filterGroups\":[],\"syncTimestamp\":1734374265867}",
       "tableResultIndex": 0
      }
     },
     "title": ""
    }
   },
   "outputs": [],
   "source": [
    "SELECT \n",
    "  o.o_orderkey, \n",
    "  o.o_custkey, \n",
    "  o.o_totalprice, \n",
    "  o.o_orderdate,\n",
    "  year(o.o_orderdate) as year, \n",
    "  month(o.o_orderdate) as month, \n",
    "  day(o.o_orderdate) as day, \n",
    "  weekofyear(o.o_orderdate) as week_of_year, \n",
    "  date_format(o.o_orderdate, 'yyyy-MM-dd') as formatted_date, \n",
    "  upper(o.o_orderpriority) as priority_upper, \n",
    "  lower(o.o_orderpriority) as priority_lower, \n",
    "  split(o.o_orderpriority, '-')[0] as priority_number, \n",
    "  split(o.o_orderpriority, '-')[1] as priority_name, \n",
    "  concat(c.c_name, ' - ', c.c_mktsegment) as customer_info, \n",
    "  round(o.o_totalprice, 2) as rounded_totalprice, \n",
    "  coalesce(o.o_shippriority, 'N/A') as ship_priority, \n",
    "  length(c.c_name) as name_length\n",
    "FROM orders as o\n",
    "INNER JOIN customer as c ON c.c_custkey = o.o_custkey"
   ]
  },
  {
   "cell_type": "markdown",
   "metadata": {
    "application/vnd.databricks.v1+cell": {
     "cellMetadata": {},
     "inputWidgets": {},
     "nuid": "565b40f0-1ec1-4628-8dc3-b83189c8028a",
     "showTitle": false,
     "tableResultSettingsMap": {},
     "title": ""
    }
   },
   "source": [
    "## 5. Junções (Joins)\n",
    "#### Tipos de Joins\n",
    "\n",
    "- **INNER JOIN**: Retorna apenas as linhas que têm correspondência em ambas as tabelas.\n",
    "- **LEFT JOIN**: Retorna todas as linhas da tabela à esquerda e as correspondências da tabela à direita. Se não houver correspondência, retorna NULL.\n",
    "- **RIGHT JOIN**: Retorna todas as linhas da tabela à direita e as correspondências da tabela à esquerda. Se não houver correspondência, retorna NULL.\n",
    "- **FULL JOIN**: Retorna todas as linhas quando há uma correspondência em uma das tabelas. Se não houver correspondência, retorna NULL.\n",
    "\n",
    "Antes de seguir, execute o código abaixo para permitir que todas as demonstrações ocorram naturalmente:"
   ]
  },
  {
   "cell_type": "code",
   "execution_count": 0,
   "metadata": {
    "application/vnd.databricks.v1+cell": {
     "cellMetadata": {
      "byteLimit": 2048000,
      "rowLimit": 10000
     },
     "inputWidgets": {},
     "nuid": "078c9591-3e9a-4109-a792-7511fe341381",
     "showTitle": false,
     "tableResultSettingsMap": {},
     "title": ""
    }
   },
   "outputs": [],
   "source": [
    "CREATE OR REPLACE TEMP VIEW employee(id, name, deptno) AS\n",
    "     VALUES(105, 'Chloe', 5),\n",
    "           (103, 'Paul' , 3),\n",
    "           (101, 'John' , 1),\n",
    "           (102, 'Lisa' , 2),\n",
    "           (104, 'Evan' , 4),\n",
    "           (106, 'Amy'  , 6);\n",
    "\n",
    "CREATE OR REPLACE TEMP VIEW department(deptno, deptname) AS\n",
    "    VALUES(3, 'Engineering'),\n",
    "          (2, 'Sales'      ),\n",
    "          (1, 'Marketing'  )\n",
    "          --, (99, 'Other')"
   ]
  },
  {
   "cell_type": "markdown",
   "metadata": {
    "application/vnd.databricks.v1+cell": {
     "cellMetadata": {},
     "inputWidgets": {},
     "nuid": "8bf8349a-be9e-400b-adea-990d0363d331",
     "showTitle": false,
     "tableResultSettingsMap": {},
     "title": ""
    }
   },
   "source": [
    "### INNER"
   ]
  },
  {
   "cell_type": "code",
   "execution_count": 0,
   "metadata": {
    "application/vnd.databricks.v1+cell": {
     "cellMetadata": {
      "byteLimit": 2048000,
      "rowLimit": 10000
     },
     "inputWidgets": {},
     "nuid": "aa32177e-2c29-4ed5-bc53-88af668451c3",
     "showTitle": false,
     "tableResultSettingsMap": {},
     "title": ""
    }
   },
   "outputs": [],
   "source": [
    "SELECT \n",
    "  o.o_orderkey, \n",
    "  c.c_mktsegment as segment,\n",
    "  o.o_totalprice, \n",
    "  year(o.o_orderdate) as year, \n",
    "  o.o_orderpriority as priority\n",
    "FROM orders as o\n",
    "INNER JOIN customer as c ON c.c_custkey = o.o_custkey\n",
    "where o.o_orderstatus = 'F'"
   ]
  },
  {
   "cell_type": "markdown",
   "metadata": {
    "application/vnd.databricks.v1+cell": {
     "cellMetadata": {},
     "inputWidgets": {},
     "nuid": "27256f52-7a96-46be-83db-e95ad13d6c46",
     "showTitle": false,
     "tableResultSettingsMap": {},
     "title": ""
    }
   },
   "source": [
    "### LEFT"
   ]
  },
  {
   "cell_type": "code",
   "execution_count": 0,
   "metadata": {
    "application/vnd.databricks.v1+cell": {
     "cellMetadata": {
      "byteLimit": 2048000,
      "rowLimit": 10000
     },
     "inputWidgets": {},
     "nuid": "0ce0f1fe-9f21-4f69-9ed0-18d180c0f3d3",
     "showTitle": false,
     "tableResultSettingsMap": {},
     "title": ""
    }
   },
   "outputs": [],
   "source": [
    "SELECT id, name, employee.deptno, deptname\n",
    "FROM employee\n",
    "LEFT JOIN department ON employee.deptno = department.deptno;"
   ]
  },
  {
   "cell_type": "markdown",
   "metadata": {
    "application/vnd.databricks.v1+cell": {
     "cellMetadata": {},
     "inputWidgets": {},
     "nuid": "98da2d6e-f1e8-4761-8531-d1434be37944",
     "showTitle": false,
     "tableResultSettingsMap": {},
     "title": ""
    }
   },
   "source": [
    "### RIGHT"
   ]
  },
  {
   "cell_type": "code",
   "execution_count": 0,
   "metadata": {
    "application/vnd.databricks.v1+cell": {
     "cellMetadata": {
      "byteLimit": 2048000,
      "rowLimit": 10000
     },
     "inputWidgets": {},
     "nuid": "9bc0f2db-4148-4560-a7d5-78d337b77b42",
     "showTitle": false,
     "tableResultSettingsMap": {
      "0": {
       "filterBlob": "{\"filterGroups\":[],\"syncTimestamp\":1735241663992}",
       "tableResultIndex": 0
      }
     },
     "title": ""
    }
   },
   "outputs": [],
   "source": [
    "SELECT id, name, employee.deptno, deptname\n",
    "FROM employee\n",
    "RIGHT JOIN department ON employee.deptno = department.deptno;"
   ]
  },
  {
   "cell_type": "code",
   "execution_count": 0,
   "metadata": {
    "application/vnd.databricks.v1+cell": {
     "cellMetadata": {
      "byteLimit": 2048000,
      "rowLimit": 10000
     },
     "inputWidgets": {},
     "nuid": "19fedaed-d7f5-4a69-b852-81cb76676ff4",
     "showTitle": false,
     "tableResultSettingsMap": {},
     "title": ""
    }
   },
   "outputs": [],
   "source": [
    "SELECT id, name, employee.deptno, deptname\n",
    "FROM department\n",
    "RIGHT JOIN employee ON department.deptno = employee.deptno;"
   ]
  },
  {
   "cell_type": "markdown",
   "metadata": {
    "application/vnd.databricks.v1+cell": {
     "cellMetadata": {},
     "inputWidgets": {},
     "nuid": "aefff597-f6b3-44dc-9151-7bf4fa2c85ba",
     "showTitle": false,
     "tableResultSettingsMap": {},
     "title": ""
    }
   },
   "source": [
    "### FULL"
   ]
  },
  {
   "cell_type": "code",
   "execution_count": 0,
   "metadata": {
    "application/vnd.databricks.v1+cell": {
     "cellMetadata": {
      "byteLimit": 2048000,
      "rowLimit": 10000
     },
     "inputWidgets": {},
     "nuid": "ca62d896-7d79-4149-8404-6efd561f9f3c",
     "showTitle": false,
     "tableResultSettingsMap": {},
     "title": ""
    }
   },
   "outputs": [],
   "source": [
    "SELECT id, name, employee.deptno, deptname\n",
    "FROM employee\n",
    "FULL OUTER JOIN department ON employee.deptno = department.deptno;"
   ]
  },
  {
   "cell_type": "markdown",
   "metadata": {
    "application/vnd.databricks.v1+cell": {
     "cellMetadata": {},
     "inputWidgets": {},
     "nuid": "d9e9e7e1-141a-443b-979c-fd42ca6195ce",
     "showTitle": false,
     "tableResultSettingsMap": {},
     "title": ""
    }
   },
   "source": [
    "### CROSS"
   ]
  },
  {
   "cell_type": "code",
   "execution_count": 0,
   "metadata": {
    "application/vnd.databricks.v1+cell": {
     "cellMetadata": {
      "byteLimit": 2048000,
      "rowLimit": 10000
     },
     "inputWidgets": {},
     "nuid": "1d0ad807-20bc-485a-9c03-256c194624bd",
     "showTitle": false,
     "tableResultSettingsMap": {},
     "title": ""
    }
   },
   "outputs": [],
   "source": [
    "SELECT id, name, employee.deptno, deptname\n",
    "FROM employee\n",
    "CROSS JOIN department;"
   ]
  },
  {
   "cell_type": "markdown",
   "metadata": {
    "application/vnd.databricks.v1+cell": {
     "cellMetadata": {},
     "inputWidgets": {},
     "nuid": "846cdad1-ee6e-464d-8f4c-1671081be9a3",
     "showTitle": false,
     "tableResultSettingsMap": {},
     "title": ""
    }
   },
   "source": [
    "### SEMI JOIN"
   ]
  },
  {
   "cell_type": "code",
   "execution_count": 0,
   "metadata": {
    "application/vnd.databricks.v1+cell": {
     "cellMetadata": {
      "byteLimit": 2048000,
      "rowLimit": 10000
     },
     "inputWidgets": {},
     "nuid": "d9699b01-b004-4193-a692-364ebe23bfc2",
     "showTitle": false,
     "tableResultSettingsMap": {},
     "title": ""
    }
   },
   "outputs": [],
   "source": [
    "SELECT *\n",
    "FROM employee\n",
    "SEMI JOIN department ON employee.deptno = department.deptno;"
   ]
  },
  {
   "cell_type": "markdown",
   "metadata": {
    "application/vnd.databricks.v1+cell": {
     "cellMetadata": {},
     "inputWidgets": {},
     "nuid": "c1b32464-69ac-4cde-8d2c-7f86ee2060ff",
     "showTitle": false,
     "tableResultSettingsMap": {},
     "title": ""
    }
   },
   "source": [
    "Fazendo o mesmo, porém utilizando ```EXISTS```:"
   ]
  },
  {
   "cell_type": "code",
   "execution_count": 0,
   "metadata": {
    "application/vnd.databricks.v1+cell": {
     "cellMetadata": {
      "byteLimit": 2048000,
      "rowLimit": 10000
     },
     "inputWidgets": {},
     "nuid": "909aadd9-524d-4314-8a50-95561762ea0d",
     "showTitle": false,
     "tableResultSettingsMap": {},
     "title": ""
    }
   },
   "outputs": [],
   "source": [
    "SELECT *\n",
    "FROM employee\n",
    "WHERE EXISTS (\n",
    "  SELECT 1\n",
    "  FROM department\n",
    "  WHERE employee.deptno = department.deptno\n",
    ");"
   ]
  },
  {
   "cell_type": "markdown",
   "metadata": {
    "application/vnd.databricks.v1+cell": {
     "cellMetadata": {},
     "inputWidgets": {},
     "nuid": "9ad31c68-e89a-475b-ade1-aaf63b7d38c2",
     "showTitle": false,
     "tableResultSettingsMap": {},
     "title": ""
    }
   },
   "source": [
    "### ANTI JOIN"
   ]
  },
  {
   "cell_type": "code",
   "execution_count": 0,
   "metadata": {
    "application/vnd.databricks.v1+cell": {
     "cellMetadata": {
      "byteLimit": 2048000,
      "rowLimit": 10000
     },
     "inputWidgets": {},
     "nuid": "70819559-590d-43bf-b2d0-933ed8857639",
     "showTitle": false,
     "tableResultSettingsMap": {},
     "title": ""
    }
   },
   "outputs": [],
   "source": [
    "SELECT *\n",
    "FROM employee\n",
    "ANTI JOIN department ON employee.deptno = department.deptno;"
   ]
  },
  {
   "cell_type": "markdown",
   "metadata": {
    "application/vnd.databricks.v1+cell": {
     "cellMetadata": {},
     "inputWidgets": {},
     "nuid": "61573d67-0149-4073-ba45-c91057cd61f7",
     "showTitle": false,
     "tableResultSettingsMap": {},
     "title": ""
    }
   },
   "source": [
    "Fazendo o mesmo, porém utilizando ```NOT EXISTS```:"
   ]
  },
  {
   "cell_type": "code",
   "execution_count": 0,
   "metadata": {
    "application/vnd.databricks.v1+cell": {
     "cellMetadata": {
      "byteLimit": 2048000,
      "rowLimit": 10000
     },
     "inputWidgets": {},
     "nuid": "3cb82ec9-f04d-47ef-b43b-1caf3da09568",
     "showTitle": false,
     "tableResultSettingsMap": {},
     "title": ""
    }
   },
   "outputs": [],
   "source": [
    "SELECT *\n",
    "FROM employee\n",
    "WHERE NOT EXISTS (\n",
    "  SELECT 1\n",
    "  FROM department\n",
    "  WHERE employee.deptno = department.deptno\n",
    ");"
   ]
  },
  {
   "cell_type": "markdown",
   "metadata": {
    "application/vnd.databricks.v1+cell": {
     "cellMetadata": {},
     "inputWidgets": {},
     "nuid": "2ece647f-b5f0-4df5-b69b-1920ca6e86c5",
     "showTitle": false,
     "tableResultSettingsMap": {},
     "title": ""
    }
   },
   "source": [
    "## 6. Agrupando dados"
   ]
  },
  {
   "cell_type": "markdown",
   "metadata": {
    "application/vnd.databricks.v1+cell": {
     "cellMetadata": {},
     "inputWidgets": {},
     "nuid": "afdf2732-eccc-4a0f-9276-03a51f0a8077",
     "showTitle": false,
     "tableResultSettingsMap": {},
     "title": ""
    }
   },
   "source": [
    "### Definição\n",
    "A cláusula **GROUP BY** em SQL é usada para agrupar linhas que têm valores iguais em colunas especificadas. Isso permite realizar operações de agregação, como SUM, COUNT, AVG, etc., em cada grupo de dados.\n",
    "\n",
    "`SELECT \n",
    "  column1, \n",
    "  column2, \n",
    "  AGGREGATE_FUNCTION(column3)\n",
    "FROM \n",
    "  table_name\n",
    "GROUP BY \n",
    "  column1, \n",
    "  column2;`\n",
    "\n",
    "No exemplo acima:\n",
    "column1 e column2 são as colunas pelas quais os dados serão agrupados.\n",
    "AGGREGATE_FUNCTION(column3) é uma função de agregação (como SUM, AVG, COUNT, etc.) aplicada à column3.\n"
   ]
  },
  {
   "cell_type": "markdown",
   "metadata": {
    "application/vnd.databricks.v1+cell": {
     "cellMetadata": {},
     "inputWidgets": {},
     "nuid": "31fd6648-1b30-4b35-8af3-c38fd155df87",
     "showTitle": false,
     "tableResultSettingsMap": {},
     "title": ""
    }
   },
   "source": [
    "### Exemplo 1\n",
    "Somente uma coluna sendo agrupada.\n",
    "\n",
    "1. **SELECT**: Esta cláusula está selecionando três colunas:\n",
    "    * c.c_mktsegment como segment: O segmento de mercado do cliente.\n",
    "    * SUM(o.o_totalprice) como total_price: A soma dos preços totais dos pedidos.\n",
    "    * count(*) como qty_orders: A contagem total de pedidos.\n",
    "\n",
    "2. **FROM** orders as o: Especifica a tabela orders com o alias o.\n",
    "\n",
    "3. **INNER JOIN** customer as c ON c.c_custkey = o.o_custkey: Realiza uma junção interna entre a tabela orders (pedidos) e a tabela customer (clientes) onde a chave do cliente (c_custkey) na tabela customer corresponde à chave do cliente (o_custkey) na tabela orders.\n",
    "\n",
    "4. **WHERE** o.o_orderstatus = 'F': Filtra os resultados para incluir apenas os pedidos cujo status (o_orderstatus) é 'F' (finalizado).\n",
    "\n",
    "5. **GROUP BY** c.c_mktsegment: Agrupa os resultados pelo segmento de mercado do cliente (c_mktsegment).\n",
    "\n",
    "Em resumo, este código SQL está calculando o total de preços e a quantidade de pedidos finalizados, agrupados por segmento de mercado dos clientes."
   ]
  },
  {
   "cell_type": "code",
   "execution_count": 0,
   "metadata": {
    "application/vnd.databricks.v1+cell": {
     "cellMetadata": {
      "byteLimit": 2048000,
      "rowLimit": 10000
     },
     "inputWidgets": {},
     "nuid": "ad889b14-58da-4e98-aeee-53bdb7fbcbdd",
     "showTitle": false,
     "tableResultSettingsMap": {},
     "title": ""
    }
   },
   "outputs": [],
   "source": [
    "SELECT \n",
    "  c.c_mktsegment as segment,\n",
    "  SUM(o.o_totalprice) total_price, \n",
    "  count(*) qty_orders\n",
    "FROM orders as o\n",
    "INNER JOIN customer as c ON c.c_custkey = o.o_custkey\n",
    "where o.o_orderstatus = 'F'\n",
    "group by c.c_mktsegment"
   ]
  },
  {
   "cell_type": "markdown",
   "metadata": {
    "application/vnd.databricks.v1+cell": {
     "cellMetadata": {},
     "inputWidgets": {},
     "nuid": "c49f54ab-4095-4301-ba21-dd5f0401209d",
     "showTitle": false,
     "tableResultSettingsMap": {},
     "title": ""
    }
   },
   "source": [
    "### Exemplo 2\n",
    "Mais de uma coluna sendo agrupada, semelhante ao caso anterior, porém adicionando uma coluna que é o ano da venda (extraida por função de uma coluna de data/hora)."
   ]
  },
  {
   "cell_type": "code",
   "execution_count": 0,
   "metadata": {
    "application/vnd.databricks.v1+cell": {
     "cellMetadata": {
      "byteLimit": 2048000,
      "rowLimit": 10000
     },
     "inputWidgets": {},
     "nuid": "43ce1c01-f9a5-4451-95db-019acda17884",
     "showTitle": false,
     "tableResultSettingsMap": {},
     "title": ""
    }
   },
   "outputs": [
    {
     "output_type": "display_data",
     "data": {
      "text/plain": [
       "Databricks visualization. Run in Databricks to view."
      ]
     },
     "metadata": {
      "application/vnd.databricks.v1.subcommand+json": {
       "baseErrorDetails": null,
       "bindings": {},
       "collapsed": false,
       "command": "%sql WITH q AS (SELECT \n  c.c_mktsegment as segment,\n  year(o.o_orderdate) as year,\n  SUM(o.o_totalprice) total_price, \n  count(*) qty_orders\nFROM orders as o\nINNER JOIN customer as c ON c.c_custkey = o.o_custkey\nwhere o.o_orderstatus = 'F'\ngroup by c.c_mktsegment, year(o.o_orderdate)) SELECT `year`,`segment`,SUM(`total_price`) `column_994c6bf49` FROM q GROUP BY `segment`,`year`",
       "commandTitle": "Visualization 1",
       "commandType": "auto",
       "commandVersion": 0,
       "commentThread": [],
       "commentsVisible": false,
       "contentSha256Hex": null,
       "customPlotOptions": {
        "redashChart": [
         {
          "key": "type",
          "value": "CHART"
         },
         {
          "key": "options",
          "value": {
           "alignYAxesAtZero": true,
           "coefficient": 1,
           "columnConfigurationMap": {
            "series": {
             "column": "segment",
             "id": "column_994c6bf47"
            },
            "x": {
             "column": "year",
             "id": "column_994c6bf46"
            },
            "y": [
             {
              "column": "total_price",
              "id": "column_994c6bf49",
              "transform": "SUM"
             }
            ]
           },
           "dateTimeFormat": "DD/MM/YYYY HH:mm",
           "direction": {
            "type": "counterclockwise"
           },
           "error_y": {
            "type": "data",
            "visible": true
           },
           "globalSeriesType": "column",
           "isAggregationOn": true,
           "legend": {
            "traceorder": "normal"
           },
           "missingValuesAsZero": true,
           "numBins": 10,
           "numberFormat": "0,0.[00000]",
           "percentFormat": "0[.]00%",
           "series": {
            "error_y": {
             "type": "data",
             "visible": true
            },
            "stacking": null
           },
           "seriesOptions": {
            "column_994c6bf49": {
             "type": "column",
             "yAxis": 0
            }
           },
           "showDataLabels": false,
           "sizemode": "diameter",
           "sortX": true,
           "sortY": true,
           "swappedAxes": false,
           "textFormat": "",
           "useAggregationsUi": true,
           "valuesOptions": {},
           "version": 2,
           "xAxis": {
            "labels": {
             "enabled": true
            },
            "type": "category"
           },
           "yAxis": [
            {
             "type": "-"
            },
            {
             "opposite": true,
             "type": "-"
            }
           ]
          }
         }
        ]
       },
       "datasetPreviewNameToCmdIdMap": {},
       "diffDeletes": [],
       "diffInserts": [],
       "displayType": "redashChart",
       "error": null,
       "errorDetails": null,
       "errorSummary": null,
       "errorTraceType": null,
       "finishTime": 0,
       "globalVars": {},
       "guid": "",
       "height": "auto",
       "hideCommandCode": false,
       "hideCommandResult": false,
       "iPythonMetadata": null,
       "inputWidgets": {},
       "isLockedInExamMode": false,
       "latestUser": "a user",
       "latestUserId": null,
       "listResultMetadata": null,
       "metadata": {
        "byteLimit": 2048000,
        "rowLimit": 10000
       },
       "nuid": "8e70d353-fede-4812-9202-cebcad0cf740",
       "origId": 0,
       "parentHierarchy": [],
       "pivotAggregation": null,
       "pivotColumns": null,
       "position": 13.0,
       "resultDbfsErrorMessage": null,
       "resultDbfsStatus": "INLINED_IN_TREE",
       "results": null,
       "showCommandTitle": false,
       "startTime": 0,
       "state": "input",
       "streamStates": {},
       "subcommandOptions": {
        "queryPlan": {
         "groups": [
          {
           "column": "year",
           "type": "column"
          },
          {
           "column": "segment",
           "type": "column"
          }
         ],
         "selects": [
          {
           "column": "year",
           "type": "column"
          },
          {
           "column": "segment",
           "type": "column"
          },
          {
           "alias": "column_994c6bf49",
           "args": [
            {
             "column": "total_price",
             "type": "column"
            }
           ],
           "function": "SUM",
           "type": "function"
          }
         ]
        }
       },
       "submitTime": 0,
       "subtype": "tableResultSubCmd.visualization",
       "tableResultIndex": 0,
       "tableResultSettingsMap": {},
       "useConsistentColors": false,
       "version": "CommandV1",
       "width": "auto",
       "workflows": null,
       "xColumns": null,
       "yColumns": null
      }
     },
     "output_type": "display_data"
    }
   ],
   "source": [
    "SELECT \n",
    "  c.c_mktsegment as segment,\n",
    "  year(o.o_orderdate) as year,\n",
    "  -- agregações\n",
    "    SUM(o.o_totalprice) total_price, \n",
    "    avg(o.o_totalprice) as average_price,\n",
    "    MAX(o.o_totalprice) - MIN(o.o_totalprice) as range_price,\n",
    "    count(*) qty_orders,\n",
    "    count(DISTINCT o.o_custkey) distinct_customers\n",
    "FROM orders as o\n",
    "INNER JOIN customer as c ON c.c_custkey = o.o_custkey\n",
    "where o.o_orderstatus = 'F'\n",
    "group by c.c_mktsegment, year(o.o_orderdate)"
   ]
  },
  {
   "cell_type": "markdown",
   "metadata": {
    "application/vnd.databricks.v1+cell": {
     "cellMetadata": {},
     "inputWidgets": {},
     "nuid": "e2172772-b89a-4906-8b8a-ca816b338a8a",
     "showTitle": false,
     "tableResultSettingsMap": {},
     "title": ""
    }
   },
   "source": [
    "### Exemplo 3\n",
    "Agrupando por país e calculando a soma e a média dos preços dos pedidos\n"
   ]
  },
  {
   "cell_type": "code",
   "execution_count": 0,
   "metadata": {
    "application/vnd.databricks.v1+cell": {
     "cellMetadata": {
      "byteLimit": 2048000,
      "rowLimit": 10000
     },
     "inputWidgets": {},
     "nuid": "693b5137-623b-4c3f-ae77-a8f7039ee7dc",
     "showTitle": false,
     "tableResultSettingsMap": {},
     "title": ""
    }
   },
   "outputs": [],
   "source": [
    "SELECT \n",
    "  n.n_name as nation,\n",
    "  -- YEAR(o.o_orderdate) as orderyear,\n",
    "  -- AGREGAÇÕES\n",
    "    SUM(o.o_totalprice) as total_price, \n",
    "    AVG(o.o_totalprice) as avg_price\n",
    "FROM orders as o\n",
    "INNER JOIN customer as c ON c.c_custkey = o.o_custkey\n",
    "INNER JOIN nation as n on n.n_nationkey = c.c_nationkey\n",
    "GROUP BY n.n_name\n",
    "-- GROUP BY n.n_name, YEAR(o.o_orderdate)\n",
    "-- GROUP BY ALL\n",
    "ORDER BY total_price DESC"
   ]
  },
  {
   "cell_type": "markdown",
   "metadata": {
    "application/vnd.databricks.v1+cell": {
     "cellMetadata": {},
     "inputWidgets": {},
     "nuid": "dc84e7c0-97c7-4d01-8209-349659637b63",
     "showTitle": false,
     "tableResultSettingsMap": {},
     "title": ""
    }
   },
   "source": [
    "# SELECT - Intermediário"
   ]
  },
  {
   "cell_type": "markdown",
   "metadata": {
    "application/vnd.databricks.v1+cell": {
     "cellMetadata": {},
     "inputWidgets": {},
     "nuid": "82d0acd5-6144-427d-87c3-4b7d239eb041",
     "showTitle": false,
     "tableResultSettingsMap": {},
     "title": ""
    }
   },
   "source": [
    "## 1. RECAP: Funções + GROUP BY"
   ]
  },
  {
   "cell_type": "code",
   "execution_count": 0,
   "metadata": {
    "application/vnd.databricks.v1+cell": {
     "cellMetadata": {
      "byteLimit": 2048000,
      "rowLimit": 10000
     },
     "inputWidgets": {},
     "nuid": "8b4f6b7f-3f23-42ed-abba-0e91e46a8139",
     "showTitle": false,
     "tableResultSettingsMap": {},
     "title": ""
    }
   },
   "outputs": [],
   "source": [
    "select * from lineitem as li\n",
    "limit 100"
   ]
  },
  {
   "cell_type": "markdown",
   "metadata": {
    "application/vnd.databricks.v1+cell": {
     "cellMetadata": {},
     "inputWidgets": {},
     "nuid": "3784554f-6cf1-4ebd-afb1-cd571d586e44",
     "showTitle": false,
     "tableResultSettingsMap": {},
     "title": ""
    }
   },
   "source": [
    "### Exemplo Básico\n",
    "Funções de agregação apoiam na realização de cálculos ou operações em cima de colunas.\n",
    "\n",
    "Este código SQL realiza uma consulta na tabela lineitem (li) e retorna as seguintes informações:\n",
    "* qtd_rows: Contagem total de linhas.\n",
    "* total_orders: Contagem de pedidos distintos (l_orderkey).\n",
    "* qtd_distinct_produtos: Contagem de produtos distintos (l_partkey).\n",
    "* total_revenue: Soma dos preços estendidos (l_extendedprice).\n",
    "* total_profit: Soma dos preços estendidos ajustados pelo desconto (l_extendedprice * (1 - l_discount)).\n",
    "* min_quantity: Quantidade mínima (l_quantity).\n",
    "* avg_quantity: Quantidade média (l_quantity).\n",
    "* max_quantity: Quantidade máxima (l_quantity)."
   ]
  },
  {
   "cell_type": "code",
   "execution_count": 0,
   "metadata": {
    "application/vnd.databricks.v1+cell": {
     "cellMetadata": {
      "byteLimit": 2048000,
      "rowLimit": 10000
     },
     "inputWidgets": {},
     "nuid": "6b1128f1-8236-402b-af49-1cef6a390bb4",
     "showTitle": false,
     "tableResultSettingsMap": {},
     "title": ""
    }
   },
   "outputs": [],
   "source": [
    "select \n",
    "  COUNT(*) qtd_rows,\n",
    "  COUNT(li.l_orderkey) as qtd_rows2,\n",
    "  COUNT(DISTINCT li.l_orderkey) as total_orders,\n",
    "  COUNT(DISTINCT li.l_partkey) qtd_distinct_produtos,\n",
    "  SUM(li.l_extendedprice) as total_revenue,\n",
    "  SUM(li.l_extendedprice * (1 - li.l_discount)) as total_profit,\n",
    "  MIN(li.l_quantity) as min_quantity,\n",
    "  AVG(li.l_quantity) as avg_quantity,\n",
    "  MAX(li.l_quantity) as max_quantity  \n",
    "from lineitem as li"
   ]
  },
  {
   "cell_type": "markdown",
   "metadata": {
    "application/vnd.databricks.v1+cell": {
     "cellMetadata": {},
     "inputWidgets": {},
     "nuid": "82abe2b7-8dc6-40ed-96fa-bd1ec5a487a2",
     "showTitle": false,
     "tableResultSettingsMap": {},
     "title": ""
    }
   },
   "source": [
    "### Agregações por Coluna\n",
    "O caso anterior, exibiam indicadores calculados para toda a massa de dados, mas e se fosse necessário exibir os dados pela data da venda?\n",
    "Ou seja, quantos registros, produtos distintos dentre outros, foram comercializados dia a dia?"
   ]
  },
  {
   "cell_type": "code",
   "execution_count": 0,
   "metadata": {
    "application/vnd.databricks.v1+cell": {
     "cellMetadata": {
      "byteLimit": 2048000,
      "rowLimit": 10000
     },
     "inputWidgets": {},
     "nuid": "01fd170e-b621-4b2c-844c-67d3a8f43440",
     "showTitle": false,
     "tableResultSettingsMap": {},
     "title": ""
    }
   },
   "outputs": [],
   "source": [
    "select \n",
    "  o.o_orderdate,\n",
    "  COUNT(*) qtd_rows,\n",
    "  COUNT(DISTINCT li.l_orderkey) as total_orders,\n",
    "  COUNT(DISTINCT li.l_partkey) qtd_distinct_produtos,\n",
    "  SUM(li.l_extendedprice) as total_revenue,\n",
    "  MAX(li.l_extendedprice) as max_revenue,\n",
    "  MIN(li.l_extendedprice) as min_revenue,\n",
    "  AVG(li.l_extendedprice) as avg_revenue,\n",
    "  SUM(li.l_extendedprice * (1 - li.l_discount)) as total_profit,\n",
    "  AVG(li.l_quantity) as avg_quantity\n",
    "from lineitem as li\n",
    "INNER JOIN orders as o ON o.o_orderkey = li.l_orderkey\n",
    "group by o.o_orderdate\n",
    "order by o_orderdate ASC"
   ]
  },
  {
   "cell_type": "markdown",
   "metadata": {
    "application/vnd.databricks.v1+cell": {
     "cellMetadata": {},
     "inputWidgets": {},
     "nuid": "7611f871-3c58-4082-b63f-85fff2ca051e",
     "showTitle": false,
     "tableResultSettingsMap": {},
     "title": ""
    }
   },
   "source": [
    "### Agregações por Coluna II\n",
    "E se fosse necessário ver os indicadores apenas por ano e mês, baseado na coluna orderdate?\n",
    "Faremos o uso de funções escalares como MONTH() e YEAR() para extrair informações originalmente de uma coluna."
   ]
  },
  {
   "cell_type": "code",
   "execution_count": 0,
   "metadata": {
    "application/vnd.databricks.v1+cell": {
     "cellMetadata": {
      "byteLimit": 2048000,
      "rowLimit": 10000
     },
     "inputWidgets": {},
     "nuid": "e479e84d-7f55-4c73-a786-d7e56f505f24",
     "showTitle": false,
     "tableResultSettingsMap": {},
     "title": ""
    }
   },
   "outputs": [],
   "source": [
    "select \n",
    "  year(o.o_orderdate) as year,\n",
    "  month(o.o_orderdate) as month,\n",
    "  COUNT(DISTINCT li.l_orderkey) as total_orders,\n",
    "  COUNT(DISTINCT li.l_partkey) qtd_distinct_produtos,\n",
    "  SUM(li.l_extendedprice) as total_revenue\n",
    "from lineitem as li\n",
    "INNER JOIN orders as o ON o.o_orderkey = li.l_orderkey\n",
    "group by year(o.o_orderdate), month(o.o_orderdate)\n",
    "order by year, month"
   ]
  },
  {
   "cell_type": "markdown",
   "metadata": {
    "application/vnd.databricks.v1+cell": {
     "cellMetadata": {},
     "inputWidgets": {},
     "nuid": "0859d781-6005-41b8-b1c6-6f1fa0390889",
     "showTitle": false,
     "tableResultSettingsMap": {},
     "title": ""
    }
   },
   "source": [
    "## 2. HAVING\n",
    "E se fosse interessante buscar apenas segmentos que tiveram menos de 96 mil ordens?"
   ]
  },
  {
   "cell_type": "markdown",
   "metadata": {
    "application/vnd.databricks.v1+cell": {
     "cellMetadata": {},
     "inputWidgets": {},
     "nuid": "e456a470-9173-4065-8ebe-b976e7ed9728",
     "showTitle": false,
     "tableResultSettingsMap": {},
     "title": ""
    }
   },
   "source": [
    "### Exemplo 1: Filtrando pós-agregação"
   ]
  },
  {
   "cell_type": "code",
   "execution_count": 0,
   "metadata": {
    "application/vnd.databricks.v1+cell": {
     "cellMetadata": {
      "byteLimit": 2048000,
      "rowLimit": 10000
     },
     "inputWidgets": {},
     "nuid": "9336e5b8-dfa7-4d6a-b635-2170c51cb71d",
     "showTitle": false,
     "tableResultSettingsMap": {},
     "title": ""
    }
   },
   "outputs": [],
   "source": [
    "select \n",
    "  year(o.o_orderdate) as year,\n",
    "  month(o.o_orderdate) as month,\n",
    "  COUNT(DISTINCT li.l_orderkey) as total_orders,\n",
    "  COUNT(DISTINCT li.l_partkey) qtd_distinct_produtos,\n",
    "  SUM(li.l_extendedprice) as total_revenue\n",
    "from lineitem as li\n",
    "INNER JOIN orders as o ON o.o_orderkey = li.l_orderkey\n",
    "group by year(o.o_orderdate), month(o.o_orderdate)\n",
    "having COUNT(DISTINCT li.l_orderkey) > 96000\n",
    "order by year, month"
   ]
  },
  {
   "cell_type": "markdown",
   "metadata": {
    "application/vnd.databricks.v1+cell": {
     "cellMetadata": {},
     "inputWidgets": {},
     "nuid": "a34f8d82-2a2b-4cae-b781-16984c7ab57e",
     "showTitle": false,
     "tableResultSettingsMap": {},
     "title": ""
    }
   },
   "source": [
    "### Exemplo 2: WHERE x HAVING"
   ]
  },
  {
   "cell_type": "code",
   "execution_count": 0,
   "metadata": {
    "application/vnd.databricks.v1+cell": {
     "cellMetadata": {
      "byteLimit": 2048000,
      "rowLimit": 10000
     },
     "inputWidgets": {},
     "nuid": "53f360b5-3c47-4a88-888f-50c5c2bd724b",
     "showTitle": false,
     "tableResultSettingsMap": {},
     "title": ""
    }
   },
   "outputs": [],
   "source": [
    "SELECT \n",
    "  c.c_mktsegment as segment,\n",
    "  year(o.o_orderdate) as year,\n",
    "  SUM(o.o_totalprice) total_price, \n",
    "  count(*) qty_orders\n",
    "FROM orders as o\n",
    "INNER JOIN customer as c ON c.c_custkey = o.o_custkey\n",
    "where o.o_orderstatus = 'F'\n",
    "group by c.c_mktsegment, year(o.o_orderdate)\n",
    "HAVING count(*) < 50000"
   ]
  },
  {
   "cell_type": "markdown",
   "metadata": {
    "application/vnd.databricks.v1+cell": {
     "cellMetadata": {},
     "inputWidgets": {},
     "nuid": "1aa720d2-342e-4fb3-9b0b-11bd02991a6d",
     "showTitle": false,
     "tableResultSettingsMap": {},
     "title": ""
    }
   },
   "source": [
    "## 3. GROUP BY avançado"
   ]
  },
  {
   "cell_type": "markdown",
   "metadata": {
    "application/vnd.databricks.v1+cell": {
     "cellMetadata": {},
     "inputWidgets": {},
     "nuid": "7967d36e-3b25-4a49-a4e6-01b79462e0b3",
     "showTitle": false,
     "tableResultSettingsMap": {},
     "title": ""
    }
   },
   "source": [
    "### Antes do Grouping sets...."
   ]
  },
  {
   "cell_type": "code",
   "execution_count": 0,
   "metadata": {
    "application/vnd.databricks.v1+cell": {
     "cellMetadata": {
      "byteLimit": 2048000,
      "rowLimit": 10000
     },
     "inputWidgets": {},
     "nuid": "546bcdbf-4274-437f-a2c9-3fc4e5161235",
     "showTitle": false,
     "tableResultSettingsMap": {},
     "title": ""
    }
   },
   "outputs": [],
   "source": [
    "  SELECT \n",
    "    'Ano-Mes' as Contexto,\n",
    "    year(o.o_orderdate) as year,\n",
    "    month(o.o_orderdate) as month,\n",
    "    COUNT(DISTINCT li.l_orderkey) as total_orders,\n",
    "    COUNT(DISTINCT li.l_partkey) qtd_distinct_produtos,\n",
    "    SUM(li.l_extendedprice) as total_revenue\n",
    "  from lineitem as li\n",
    "  INNER JOIN orders as o ON o.o_orderkey = li.l_orderkey\n",
    "  GROUP BY year(o.o_orderdate), month(o.o_orderdate)"
   ]
  },
  {
   "cell_type": "code",
   "execution_count": 0,
   "metadata": {
    "application/vnd.databricks.v1+cell": {
     "cellMetadata": {
      "byteLimit": 2048000,
      "rowLimit": 10000
     },
     "inputWidgets": {},
     "nuid": "6f3da4f6-dc1e-4db5-9059-591524b92826",
     "showTitle": false,
     "tableResultSettingsMap": {},
     "title": ""
    }
   },
   "outputs": [],
   "source": [
    "  SELECT \n",
    "    'Ano-Mes' as Contexto,\n",
    "    year(o.o_orderdate) as year,\n",
    "    month(o.o_orderdate) as month,\n",
    "    COUNT(DISTINCT li.l_orderkey) as total_orders,\n",
    "    COUNT(DISTINCT li.l_partkey) qtd_distinct_produtos,\n",
    "    SUM(li.l_extendedprice) as total_revenue\n",
    "  from lineitem as li\n",
    "  INNER JOIN orders as o ON o.o_orderkey = li.l_orderkey\n",
    "  GROUP BY year(o.o_orderdate), month(o.o_orderdate)\n",
    "UNION ALL\n",
    "  SELECT \n",
    "    'Ano' as Contexto,\n",
    "    year(o.o_orderdate) as year,\n",
    "    NULL as month,\n",
    "    COUNT(DISTINCT li.l_orderkey) as total_orders,\n",
    "    COUNT(DISTINCT li.l_partkey) qtd_distinct_produtos,\n",
    "    SUM(li.l_extendedprice) as total_revenue\n",
    "  from lineitem as li\n",
    "  INNER JOIN orders as o ON o.o_orderkey = li.l_orderkey\n",
    "  GROUP BY year(o.o_orderdate)\n",
    "UNION ALL\n",
    "  SELECT \n",
    "    'Mes' as Contexto,\n",
    "    NULL as year,\n",
    "    month(o.o_orderdate) as month,\n",
    "    COUNT(DISTINCT li.l_orderkey) as total_orders,\n",
    "    COUNT(DISTINCT li.l_partkey) qtd_distinct_produtos,\n",
    "    SUM(li.l_extendedprice) as total_revenue\n",
    "  from lineitem as li\n",
    "  INNER JOIN orders as o ON o.o_orderkey = li.l_orderkey\n",
    "  GROUP BY month(o.o_orderdate)\n",
    "UNION ALL\n",
    "  SELECT \n",
    "    'Geral' as Contexto,\n",
    "    NULL as year,\n",
    "    NULL as month,\n",
    "    COUNT(DISTINCT li.l_orderkey) as total_orders,\n",
    "    COUNT(DISTINCT li.l_partkey) qtd_distinct_produtos,\n",
    "    SUM(li.l_extendedprice) as total_revenue\n",
    "  from lineitem as li\n",
    "  INNER JOIN orders as o ON o.o_orderkey = li.l_orderkey"
   ]
  },
  {
   "cell_type": "markdown",
   "metadata": {
    "application/vnd.databricks.v1+cell": {
     "cellMetadata": {},
     "inputWidgets": {},
     "nuid": "c1fdf5d6-3cbc-4b79-b0a9-0c57269181f6",
     "showTitle": false,
     "tableResultSettingsMap": {},
     "title": ""
    }
   },
   "source": [
    "### GROUPING SETS - Exemplo 1\n",
    "O uso de GROUPING SETS no seu código SQL oferece várias vantagens:\n",
    "\n",
    "**Flexibilidade na Agregação:** GROUPING SETS permite definir múltiplos níveis de agregação em uma única consulta. No seu caso, você está agregando por ano, por mês, por ano e mês combinados, e um total geral. Isso elimina a necessidade de escrever múltiplas consultas separadas para cada nível de agregação.\n",
    "\n",
    "**Redução de Código:** Em vez de escrever várias consultas com diferentes cláusulas GROUP BY, você pode consolidar tudo em uma única consulta. Isso torna o código mais limpo e fácil de manter.\n",
    "\n",
    "**Melhor Desempenho:** Usar GROUPING SETS pode ser mais eficiente do que executar várias consultas separadas, pois o banco de dados pode otimizar a execução interna para calcular todos os agrupamentos em uma única varredura dos dados.\n",
    "\n",
    "**Facilidade de Interpretação:** A função GROUPING_ID ajuda a identificar o contexto de cada linha no resultado, indicando quais colunas foram usadas para agrupar os dados. Isso facilita a interpretação dos resultados agregados.\n",
    "\n",
    "**Versatilidade:** GROUPING SETS é uma funcionalidade poderosa que pode ser combinada com outras funções de agregação e cláusulas SQL, oferecendo uma grande versatilidade na análise de dados.\n",
    "\n",
    "**Redução de Erros:** Consolidar múltiplos agrupamentos em uma única consulta reduz a probabilidade de erros que podem ocorrer ao manter várias consultas separadas."
   ]
  },
  {
   "cell_type": "code",
   "execution_count": 0,
   "metadata": {
    "application/vnd.databricks.v1+cell": {
     "cellMetadata": {
      "byteLimit": 2048000,
      "rowLimit": 10000
     },
     "inputWidgets": {},
     "nuid": "08f2c88a-ec83-4fa1-a74b-be6148c7dbc6",
     "showTitle": false,
     "tableResultSettingsMap": {},
     "title": ""
    }
   },
   "outputs": [],
   "source": [
    "select \n",
    "  case  GROUPING_ID(year(o.o_orderdate), month(o.o_orderdate))\n",
    "    when 0 then '4 - Ano-Mes'\n",
    "    when 1 then '2 - Ano'\n",
    "    when 2 then '3 - Mes'\n",
    "    when 3 then '1 - Geral'\n",
    "  end as Contexto,\n",
    "  year(o.o_orderdate) as year,\n",
    "  month(o.o_orderdate) as month,\n",
    "  COUNT(DISTINCT li.l_orderkey) as total_orders,\n",
    "  COUNT(DISTINCT li.l_partkey) qtd_distinct_produtos,\n",
    "  SUM(li.l_extendedprice) as total_revenue\n",
    "from lineitem as li\n",
    "INNER JOIN orders as o ON o.o_orderkey = li.l_orderkey\n",
    "group by GROUPING SETS (\n",
    "    (year(o.o_orderdate)),\n",
    "    (month(o.o_orderdate)),\n",
    "    (year(o.o_orderdate), month(o.o_orderdate)),\n",
    "    ()\n",
    "    )\n",
    "order by Contexto, year, month"
   ]
  },
  {
   "cell_type": "markdown",
   "metadata": {
    "application/vnd.databricks.v1+cell": {
     "cellMetadata": {},
     "inputWidgets": {},
     "nuid": "44189a37-74bf-46c3-8c4e-a817f0eeefec",
     "showTitle": false,
     "tableResultSettingsMap": {},
     "title": ""
    }
   },
   "source": [
    "### GROUPING SETS - Exemplo 2"
   ]
  },
  {
   "cell_type": "code",
   "execution_count": 0,
   "metadata": {
    "application/vnd.databricks.v1+cell": {
     "cellMetadata": {
      "byteLimit": 2048000,
      "rowLimit": 10000
     },
     "inputWidgets": {},
     "nuid": "2a82e123-2813-483c-8604-c0393f9e6988",
     "showTitle": false,
     "tableResultSettingsMap": {},
     "title": ""
    }
   },
   "outputs": [],
   "source": [
    "select \n",
    "  GROUPING_ID(year(o.o_orderdate), pa.p_type, month(o.o_orderdate)) as Contexto,\n",
    "  pa.p_type as producttype,\n",
    "  year(o.o_orderdate) as year,\n",
    "  month(o.o_orderdate) as month,\n",
    "  COUNT(DISTINCT li.l_orderkey) as total_orders,\n",
    "  COUNT(DISTINCT li.l_partkey) qtd_distinct_produtos,\n",
    "  SUM(li.l_extendedprice) as total_revenue\n",
    "from lineitem as li\n",
    "INNER JOIN orders as o ON o.o_orderkey = li.l_orderkey\n",
    "INNER JOIN part as pa ON pa.p_partkey = li.l_partkey\n",
    "group by GROUPING SETS (\n",
    "    (year(o.o_orderdate)),\n",
    "    (year(o.o_orderdate), pa.p_type),\n",
    "    (month(o.o_orderdate)),\n",
    "    (year(o.o_orderdate), month(o.o_orderdate)),\n",
    "    ()\n",
    "    )\n",
    "order by Contexto, year, month"
   ]
  },
  {
   "cell_type": "markdown",
   "metadata": {
    "application/vnd.databricks.v1+cell": {
     "cellMetadata": {},
     "inputWidgets": {},
     "nuid": "d2a1ce9b-71bf-4a5b-97cb-8294aad4da03",
     "showTitle": false,
     "tableResultSettingsMap": {},
     "title": ""
    }
   },
   "source": [
    "### GROUP BY CUBE - Exemplo 1\n",
    "Segue a lógica do GROUPING SETS, porém, ele executa todas as possibilidades de uso das colunas disponíveis.  Exemplo você tem a coluna A, B e C, então ele fará:\n",
    "\n",
    "| Contexto  |    A    |  B    |  C    |\n",
    "|---------- | ------- |-------|------ |\n",
    "|  0        |  X      | X     | X     |\n",
    "|  1        |  X      | X     | NULL  |\n",
    "|  2        |  X      | NULL  | X     |\n",
    "|  3        |  X      | NULL  | NULL  |\n",
    "|  4        |  NULL   | X     | X     |\n",
    "|  5        |  NULL   | X     | NULL  |\n",
    "|  6        |  NULL   | NULL  | X     |\n",
    "|  7        |  NULL   | NULL  | NULL  |\n",
    "\n",
    "Obs.: X é onde está sendo realizado o agrupamento no momento do contexto."
   ]
  },
  {
   "cell_type": "code",
   "execution_count": 0,
   "metadata": {
    "application/vnd.databricks.v1+cell": {
     "cellMetadata": {
      "byteLimit": 2048000,
      "rowLimit": 10000
     },
     "inputWidgets": {},
     "nuid": "d7c20d55-7720-45a5-a780-af454c05c163",
     "showTitle": false,
     "tableResultSettingsMap": {
      "0": {
       "filterBlob": "{\"filterGroups\":[],\"syncTimestamp\":1736507727599}",
       "tableResultIndex": 0
      }
     },
     "title": ""
    }
   },
   "outputs": [],
   "source": [
    "select \n",
    "  GROUPING_ID(year(o.o_orderdate), month(o.o_orderdate)) as Contexto,\n",
    "  year(o.o_orderdate) as year,\n",
    "  month(o.o_orderdate) as month,\n",
    "  COUNT(DISTINCT li.l_orderkey) as total_orders,\n",
    "  COUNT(DISTINCT li.l_partkey) qtd_distinct_produtos,\n",
    "  SUM(li.l_extendedprice) as total_revenue\n",
    "from lineitem as li\n",
    "INNER JOIN orders as o ON o.o_orderkey = li.l_orderkey\n",
    "group by CUBE (year(o.o_orderdate), (month(o.o_orderdate)))\n",
    "order by Contexto, year, month"
   ]
  },
  {
   "cell_type": "markdown",
   "metadata": {
    "application/vnd.databricks.v1+cell": {
     "cellMetadata": {},
     "inputWidgets": {},
     "nuid": "50558466-fed9-42b6-9af8-4f0aa7971e04",
     "showTitle": false,
     "tableResultSettingsMap": {},
     "title": ""
    }
   },
   "source": [
    "### GROUP BY CUBE - Exemplo 2"
   ]
  },
  {
   "cell_type": "code",
   "execution_count": 0,
   "metadata": {
    "application/vnd.databricks.v1+cell": {
     "cellMetadata": {
      "byteLimit": 2048000,
      "rowLimit": 10000
     },
     "inputWidgets": {},
     "nuid": "60b1db33-7693-4b3a-80f2-23fcf6ad503e",
     "showTitle": false,
     "tableResultSettingsMap": {},
     "title": ""
    }
   },
   "outputs": [],
   "source": [
    "select \n",
    "  GROUPING_ID(year(o.o_orderdate), month(o.o_orderdate), pa.p_size) as Contexto,\n",
    "  year(o.o_orderdate) as year,\n",
    "  month(o.o_orderdate) as month,\n",
    "  pa.p_size as productsize,\n",
    "  COUNT(DISTINCT li.l_orderkey) as total_orders,\n",
    "  COUNT(DISTINCT li.l_partkey) qtd_distinct_produtos,\n",
    "  SUM(li.l_extendedprice) as total_revenue\n",
    "from lineitem as li\n",
    "INNER JOIN orders as o ON o.o_orderkey = li.l_orderkey\n",
    "INNER JOIN part as pa ON pa.p_partkey = li.l_partkey\n",
    "group by CUBE (year(o.o_orderdate), (month(o.o_orderdate)), pa.p_size)\n",
    "order by Contexto, year, month"
   ]
  },
  {
   "cell_type": "markdown",
   "metadata": {
    "application/vnd.databricks.v1+cell": {
     "cellMetadata": {},
     "inputWidgets": {},
     "nuid": "49bd1c8c-edbf-497c-9499-490f183617fb",
     "showTitle": false,
     "tableResultSettingsMap": {},
     "title": ""
    }
   },
   "source": [
    "### GROUP BY ROLLUP\n",
    "Segue a lógica do CUBE, porém, ele executa as possibilidades de uso das colunas disponíveis em uma sequencia conforme a ordem definida, exemplo você tem a coluna A, B e C, então ele fará:\n",
    "| Contexto  |    A    |  B    |  C    |\n",
    "|---------- | ------- |-------|------ |\n",
    "|  0        |  X      | X     | X     |\n",
    "|  1        |  X      | X     | NULL  |\n",
    "|  3        |  X      | NULL  | NULL  |\n",
    "|  7        |  NULL   | NULL  | NULL  |\n",
    "\n",
    "Obs.: X é onde está sendo realizado o agrupamento no momento do contexto."
   ]
  },
  {
   "cell_type": "code",
   "execution_count": 0,
   "metadata": {
    "application/vnd.databricks.v1+cell": {
     "cellMetadata": {
      "byteLimit": 2048000,
      "rowLimit": 10000
     },
     "inputWidgets": {},
     "nuid": "118263b9-c8a9-42a6-bb89-b1fbbcceddee",
     "showTitle": false,
     "tableResultSettingsMap": {},
     "title": ""
    }
   },
   "outputs": [],
   "source": [
    "select \n",
    "  GROUPING_ID(year(o.o_orderdate), month(o.o_orderdate), pa.p_size) as Contexto,\n",
    "  year(o.o_orderdate) as year,\n",
    "  month(o.o_orderdate) as month,\n",
    "  pa.p_size as productsize,\n",
    "  COUNT(DISTINCT li.l_orderkey) as total_orders,\n",
    "  COUNT(DISTINCT li.l_partkey) qtd_distinct_produtos,\n",
    "  SUM(li.l_extendedprice) as total_revenue\n",
    "from lineitem as li\n",
    "INNER JOIN orders as o ON o.o_orderkey = li.l_orderkey\n",
    "INNER JOIN part as pa ON pa.p_partkey = li.l_partkey\n",
    "group by ROLLUP (year(o.o_orderdate), (month(o.o_orderdate)), pa.p_size)\n",
    "order by Contexto, year, month, productsize"
   ]
  },
  {
   "cell_type": "code",
   "execution_count": 0,
   "metadata": {
    "application/vnd.databricks.v1+cell": {
     "cellMetadata": {
      "byteLimit": 2048000,
      "rowLimit": 10000
     },
     "inputWidgets": {},
     "nuid": "708d7c34-a08a-485b-90e5-d07d6753bfbe",
     "showTitle": false,
     "tableResultSettingsMap": {},
     "title": ""
    }
   },
   "outputs": [],
   "source": [
    "use samples.tpch"
   ]
  },
  {
   "cell_type": "markdown",
   "metadata": {
    "application/vnd.databricks.v1+cell": {
     "cellMetadata": {},
     "inputWidgets": {},
     "nuid": "7bd81b67-0ba8-455d-89a9-ec4060364e09",
     "showTitle": false,
     "tableResultSettingsMap": {},
     "title": ""
    }
   },
   "source": [
    "## 4. PIVOT"
   ]
  },
  {
   "cell_type": "code",
   "execution_count": 0,
   "metadata": {
    "application/vnd.databricks.v1+cell": {
     "cellMetadata": {
      "byteLimit": 2048000,
      "rowLimit": 10000
     },
     "inputWidgets": {},
     "nuid": "d58236ff-c1ca-45e0-af8b-a8dbd953bf0f",
     "showTitle": false,
     "tableResultSettingsMap": {
      "0": {
       "filterBlob": "{\"filterGroups\":[{\"enabled\":true,\"filterGroupId\":\"fg_69cb18e9\",\"op\":\"OR\",\"filters\":[{\"filterId\":\"f_b29376b1\",\"enabled\":true,\"columnId\":\"segment\",\"dataType\":\"string\",\"filterType\":\"eq\",\"filterValue\":\"HOUSEHOLD\",\"filterValues\":[]}],\"local\":false,\"updatedAt\":1738927914211}],\"syncTimestamp\":1738927937284}",
       "tableResultIndex": 0
      }
     },
     "title": ""
    }
   },
   "outputs": [],
   "source": [
    "SELECT \n",
    "  c.c_mktsegment as segment,\n",
    "  year(o.o_orderdate) as year_order,\n",
    "  SUM(o.o_totalprice) total_price\n",
    "FROM orders as o\n",
    "INNER JOIN customer as c ON c.c_custkey = o.o_custkey\n",
    "WHERE o.o_orderstatus = 'F'\n",
    "GROUP BY c.c_mktsegment, year(o.o_orderdate)"
   ]
  },
  {
   "cell_type": "markdown",
   "metadata": {
    "application/vnd.databricks.v1+cell": {
     "cellMetadata": {},
     "inputWidgets": {},
     "nuid": "0d10c8e8-0fc1-4784-9595-4d917545a743",
     "showTitle": false,
     "tableResultSettingsMap": {},
     "title": ""
    }
   },
   "source": [
    "### Exemplo 1\n",
    "O código SQL realiza uma consulta para pivotar os dados de pedidos finalizados, agrupando-os por segmento de mercado e ano. \n",
    "\n",
    "A consulta interna agrega os dados e a consulta externa realiza a operação de pivot."
   ]
  },
  {
   "cell_type": "code",
   "execution_count": 0,
   "metadata": {
    "application/vnd.databricks.v1+cell": {
     "cellMetadata": {
      "byteLimit": 2048000,
      "rowLimit": 10000
     },
     "inputWidgets": {},
     "nuid": "d0936e0b-02ae-4abf-af18-ddafbfdee9ad",
     "showTitle": false,
     "tableResultSettingsMap": {},
     "title": ""
    }
   },
   "outputs": [],
   "source": [
    "SELECT \n",
    "  d.segment, \n",
    "  d.`1992`, d.`1993`, d.`1994`, d.`1995`,\n",
    "  d.`1994` - d.`1992` as var_94_92\n",
    "FROM (\n",
    "  SELECT *\n",
    "  FROM (\n",
    "    SELECT \n",
    "      c.c_mktsegment as segment,\n",
    "      year(o.o_orderdate) as year_order,\n",
    "      SUM(o.o_totalprice) total_price\n",
    "    FROM orders as o\n",
    "    INNER JOIN customer as c ON c.c_custkey = o.o_custkey\n",
    "    WHERE o.o_orderstatus = 'F'\n",
    "    GROUP BY c.c_mktsegment, year(o.o_orderdate)\n",
    "  ) \n",
    "  PIVOT (\n",
    "    sum(total_price) for (year_order) IN ('1990', '1991', '1992', '1993', '1994', '1995', '1996', '1997', '1998', '1999', '2025')\n",
    "  ) \n",
    ") d"
   ]
  },
  {
   "cell_type": "markdown",
   "metadata": {
    "application/vnd.databricks.v1+cell": {
     "cellMetadata": {},
     "inputWidgets": {},
     "nuid": "9d9249b7-7d2b-4ca0-8e25-6523136452eb",
     "showTitle": false,
     "tableResultSettingsMap": {},
     "title": ""
    }
   },
   "source": [
    "### Exemplo 2\n",
    "O código SQL está agregando os preços totais dos pedidos finalizados por segmento de mercado e região, e depois transforma esses dados para que os totais anuais apareçam como colunas separadas para os anos de 1992 a 1995.\n",
    "\n",
    "* **Subconsulta Interna**:\n",
    "  * A subconsulta interna seleciona dados das tabelas orders, customer, nation e region.\n",
    "  * As tabelas são unidas (INNER JOIN) com base em chaves estrangeiras.\n",
    "  * Filtra os pedidos (orders) que têm o status 'F'.\n",
    "  * Agrupa os resultados por segmento de mercado do cliente (c.c_mktsegment), nome da região (r.r_name) e ano do pedido (year(o.o_orderdate)).\n",
    "  * Calcula a soma dos preços totais dos pedidos (SUM(o.o_totalprice)) para cada grupo.\n",
    "\n",
    "* **PIVOT**:\n",
    "  * A subconsulta intermediária aplica uma operação de pivot para transformar linhas em colunas.\n",
    "  * A operação de pivot agrupa os dados por year_order e calcula a soma dos preços totais (sum(total_price)) para os anos de 1990 a 1999."
   ]
  },
  {
   "cell_type": "code",
   "execution_count": 0,
   "metadata": {
    "application/vnd.databricks.v1+cell": {
     "cellMetadata": {
      "byteLimit": 2048000,
      "rowLimit": 10000
     },
     "inputWidgets": {},
     "nuid": "c6ab667e-f4a4-4adf-9ece-1d16b744278e",
     "showTitle": false,
     "tableResultSettingsMap": {
      "0": {
       "filterBlob": "{\"filterGroups\":[{\"enabled\":true,\"filterGroupId\":\"fg_b36216ab\",\"op\":\"OR\",\"filters\":[{\"filterId\":\"f_ccf3e03f\",\"enabled\":true,\"columnId\":\"segment\",\"dataType\":\"string\",\"filterType\":\"eq\",\"filterValue\":\"AUTOMOBILE\",\"filterValues\":[]}],\"local\":false,\"updatedAt\":1738928271079}],\"syncTimestamp\":1738928271079}",
       "tableResultIndex": 0
      }
     },
     "title": ""
    }
   },
   "outputs": [],
   "source": [
    "SELECT d.region, d.segment, month_order,  d.`1992`, d.`1993`, d.`1994`, d.`1995`\n",
    "FROM (\n",
    "  SELECT *\n",
    "  FROM (\n",
    "    SELECT \n",
    "      c.c_mktsegment as segment, \n",
    "      r.r_name as region,\n",
    "      year(o.o_orderdate) as year_order,\n",
    "      month(o.o_orderdate) as month_order,\n",
    "      SUM(o.o_totalprice) total_price\n",
    "    FROM orders as o\n",
    "    INNER JOIN customer as c ON c.c_custkey = o.o_custkey\n",
    "    INNER JOIN nation as n ON n.n_nationkey = c.c_nationkey\n",
    "    INNER JOIN region as r ON r.r_regionkey = n.n_regionkey\n",
    "    WHERE o.o_orderstatus = 'F'\n",
    "    GROUP BY c.c_mktsegment, r.r_name, year(o.o_orderdate), month(o.o_orderdate)\n",
    "  ) \n",
    "  PIVOT (\n",
    "    sum(total_price) for (year_order) IN ('1990', '1991', '1992', '1993', '1994', '1995', '1996', '1997', '1998', '1999')\n",
    "  ) \n",
    ") d"
   ]
  },
  {
   "cell_type": "markdown",
   "metadata": {
    "application/vnd.databricks.v1+cell": {
     "cellMetadata": {},
     "inputWidgets": {},
     "nuid": "a92be71c-4123-4e4f-ac5a-1d62e5f3672a",
     "showTitle": false,
     "tableResultSettingsMap": {},
     "title": ""
    }
   },
   "source": [
    "### Exemplo 3"
   ]
  },
  {
   "cell_type": "code",
   "execution_count": 0,
   "metadata": {
    "application/vnd.databricks.v1+cell": {
     "cellMetadata": {
      "byteLimit": 2048000,
      "rowLimit": 10000
     },
     "inputWidgets": {},
     "nuid": "3f18b9d7-29c2-4936-8613-0e44f01c6b17",
     "showTitle": false,
     "tableResultSettingsMap": {
      "0": {
       "filterBlob": "{\"filterGroups\":[{\"enabled\":true,\"filterGroupId\":\"fg_367865e\",\"op\":\"OR\",\"filters\":[{\"filterId\":\"f_3c41873c\",\"enabled\":true,\"columnId\":\"segment\",\"dataType\":\"string\",\"filterType\":\"eq\",\"filterValue\":\"HOUSEHOLD\",\"filterValues\":[]}],\"local\":false,\"updatedAt\":1738928748748}],\"syncTimestamp\":1738928748748}",
       "tableResultIndex": 0
      }
     },
     "title": ""
    }
   },
   "outputs": [],
   "source": [
    "SELECT \n",
    "  d.region, d.segment, year_order as year, \n",
    "  d.`1`, d.`2`, d.`3`, d.`4`, d.`5`, d.`6`, d.`7`, d.`8`, d.`9`, d.`10`, d.`11`, d.`12`\n",
    "FROM (\n",
    "  SELECT *\n",
    "  FROM (\n",
    "    SELECT \n",
    "      c.c_mktsegment as segment, \n",
    "      r.r_name as region,\n",
    "      year(o.o_orderdate) as year_order,\n",
    "      month(o.o_orderdate) as month_order,\n",
    "      SUM(o.o_totalprice) total_price\n",
    "    FROM orders as o\n",
    "    INNER JOIN customer as c ON c.c_custkey = o.o_custkey\n",
    "    INNER JOIN nation as n ON n.n_nationkey = c.c_nationkey\n",
    "    INNER JOIN region as r ON r.r_regionkey = n.n_regionkey\n",
    "    WHERE o.o_orderstatus = 'F'\n",
    "    GROUP BY c.c_mktsegment, r.r_name, year(o.o_orderdate), month(o.o_orderdate)\n",
    "  ) \n",
    "  PIVOT (\n",
    "    sum(total_price) for (month_order) IN ('1', '2', '3', '4', '5', '6', '7', '8', '9', '10', '11', '12')\n",
    "  ) \n",
    ") d"
   ]
  },
  {
   "cell_type": "markdown",
   "metadata": {
    "application/vnd.databricks.v1+cell": {
     "cellMetadata": {},
     "inputWidgets": {},
     "nuid": "63d39e6d-d369-46e9-9c98-c52e9212334b",
     "showTitle": false,
     "tableResultSettingsMap": {},
     "title": ""
    }
   },
   "source": [
    "## 5. UNPIVOT"
   ]
  },
  {
   "cell_type": "markdown",
   "metadata": {
    "application/vnd.databricks.v1+cell": {
     "cellMetadata": {},
     "inputWidgets": {},
     "nuid": "3b403345-f517-4baa-9b1e-d86a98c64c37",
     "showTitle": false,
     "tableResultSettingsMap": {},
     "title": ""
    }
   },
   "source": [
    "### Exemplo 1"
   ]
  },
  {
   "cell_type": "code",
   "execution_count": 0,
   "metadata": {
    "application/vnd.databricks.v1+cell": {
     "cellMetadata": {
      "byteLimit": 2048000,
      "rowLimit": 10000
     },
     "inputWidgets": {},
     "nuid": "6ca328c6-ae79-46e0-8d9f-e25408987984",
     "showTitle": false,
     "tableResultSettingsMap": {},
     "title": ""
    }
   },
   "outputs": [],
   "source": [
    "select \n",
    "    i.l_orderkey as order,\n",
    "    i.l_partkey as partnumber_id,\n",
    "    i.l_suppkey as supplier_id,\n",
    "    i.l_linenumber as linenumber,\n",
    "    i.l_quantity as quantity,\n",
    "    i.l_extendedprice as extendedprice,\n",
    "    i.l_discount as discount,\n",
    "    i.l_tax as taxes\n",
    "  from lineitem i"
   ]
  },
  {
   "cell_type": "code",
   "execution_count": 0,
   "metadata": {
    "application/vnd.databricks.v1+cell": {
     "cellMetadata": {
      "byteLimit": 2048000,
      "rowLimit": 10000
     },
     "inputWidgets": {},
     "nuid": "4b040cba-b00d-4fa4-82f8-890fd0946964",
     "showTitle": false,
     "tableResultSettingsMap": {},
     "title": ""
    }
   },
   "outputs": [],
   "source": [
    "SELECT order, partnumber_id, supplier_id, linenumber, metric, value\n",
    "FROM (\n",
    "  select \n",
    "    i.l_orderkey as order,\n",
    "    i.l_partkey as partnumber_id,\n",
    "    i.l_suppkey as supplier_id,\n",
    "    i.l_linenumber as linenumber,\n",
    "    i.l_quantity as quantity,\n",
    "    i.l_extendedprice as extendedprice,\n",
    "    i.l_discount as discount,\n",
    "    i.l_tax as taxes\n",
    "  from lineitem i\n",
    ") d\n",
    "UNPIVOT (\n",
    "  value FOR metric IN (quantity, extendedprice, discount, taxes)\n",
    ") as up"
   ]
  },
  {
   "cell_type": "code",
   "execution_count": 0,
   "metadata": {
    "application/vnd.databricks.v1+cell": {
     "cellMetadata": {
      "byteLimit": 2048000,
      "rowLimit": 10000
     },
     "inputWidgets": {},
     "nuid": "14b2d555-c0ae-44a6-97f9-430b37b29b49",
     "showTitle": false,
     "tableResultSettingsMap": {},
     "title": ""
    }
   },
   "outputs": [],
   "source": [
    "select * from region"
   ]
  },
  {
   "cell_type": "markdown",
   "metadata": {
    "application/vnd.databricks.v1+cell": {
     "cellMetadata": {},
     "inputWidgets": {},
     "nuid": "ef4dd583-c1be-4203-9704-522abce1485b",
     "showTitle": false,
     "tableResultSettingsMap": {},
     "title": ""
    }
   },
   "source": [
    "# SELECT - Avançado"
   ]
  },
  {
   "cell_type": "code",
   "execution_count": 0,
   "metadata": {
    "application/vnd.databricks.v1+cell": {
     "cellMetadata": {
      "byteLimit": 2048000,
      "rowLimit": 10000
     },
     "inputWidgets": {},
     "nuid": "d56f8678-e6ff-4048-842e-8b38997bbe5b",
     "showTitle": false,
     "tableResultSettingsMap": {},
     "title": ""
    }
   },
   "outputs": [],
   "source": [
    "use samples.tpch"
   ]
  },
  {
   "cell_type": "markdown",
   "metadata": {
    "application/vnd.databricks.v1+cell": {
     "cellMetadata": {},
     "inputWidgets": {},
     "nuid": "efe548e3-42e6-480b-bcbe-e1735ea4cc7d",
     "showTitle": false,
     "tableResultSettingsMap": {},
     "title": ""
    }
   },
   "source": [
    "## 1. WINDOW FUNCTIONS"
   ]
  },
  {
   "cell_type": "markdown",
   "metadata": {
    "application/vnd.databricks.v1+cell": {
     "cellMetadata": {},
     "inputWidgets": {},
     "nuid": "a9b308fe-3557-4f5d-9bb9-58021fbc67fa",
     "showTitle": false,
     "tableResultSettingsMap": {},
     "title": ""
    }
   },
   "source": [
    "### Exemplo 1\n",
    "Este código SQL executa uma série de cálculos e agregações em dados de pedidos, agrupados por ano, mês e segmento de cliente. Aqui está uma análise concisa do que cada parte do código faz:\n",
    "\n",
    "**1. Subconsulta (d):**\n",
    "\n",
    "* Agrega dados de pedidos por ano, mês e segmento de cliente.\n",
    "* Une a tabela de pedidos (o) com a tabela de clientes (c) na chave do cliente.\n",
    "* Filtra pedidos para incluir apenas aqueles com status 'F'.\n",
    "* Calcula o preço total dos pedidos, o número de pedidos e o valor médio do pedido (ticket) para cada ano, mês e segmento.\n",
    "\n",
    "\n",
    "**2. Consulta principal:**\n",
    "\n",
    "* Seleciona vários campos da subconsulta (d):\n",
    "* year, monthno, segment, total_price e qty_orders (renomeados como orders).\n",
    "* Calcula o total corrente de pedidos por mês dentro de cada ano usando uma função de janela.\n",
    "* Calcula a porcentagem de pedidos para o mês do total corrente de pedidos para o ano.\n",
    "* Calcula o total corrente de pedidos por segmento dentro de cada ano.\n",
    "* Seleciona o valor do ticket.\n",
    "* Calcula o valor médio do ticket por mês dentro de cada ano.\n",
    "* Calcula os valores mínimo, médio e máximo do ticket por segmento.\n",
    "* Ordena o resultado final por ano, monthno e segmento."
   ]
  },
  {
   "cell_type": "code",
   "execution_count": 0,
   "metadata": {
    "application/vnd.databricks.v1+cell": {
     "cellMetadata": {
      "byteLimit": 2048000,
      "rowLimit": 10000
     },
     "inputWidgets": {},
     "nuid": "7a022de8-cfee-40d8-82b7-a215b52c4078",
     "showTitle": false,
     "tableResultSettingsMap": {},
     "title": ""
    }
   },
   "outputs": [],
   "source": [
    "SELECT \n",
    "  d.year, \n",
    "  d.monthno, \n",
    "  d.segment, \n",
    "  d.total_price, \n",
    "  d.qty_orders AS orders,\n",
    "  -- Calculate the running total of orders per month within each year\n",
    "  SUM(d.qty_orders) OVER (PARTITION BY d.year ORDER BY d.monthno) AS orders_month,\n",
    "  -- Calculate the percentage of orders for the month out of the running total of orders for the year\n",
    "  ROUND((orders / orders_month), 2) AS pct_month,\n",
    "  -- Calculate the running total of orders per segment within each year\n",
    "  SUM(d.qty_orders) OVER (PARTITION BY d.year ORDER BY d.monthno, d.segment) AS orders_run_month,\n",
    "  d.ticket,\n",
    "  -- Calculate the average ticket value per month within each year\n",
    "  ROUND(AVG(d.ticket) OVER (PARTITION BY d.year ORDER BY d.monthno), 2) AS ticket_avg_month,\n",
    "  -- Calculate the minimum ticket value per segment\n",
    "  ROUND(MIN(d.ticket) OVER (PARTITION BY d.segment), 2) AS ticket_min_segment,\n",
    "  -- Calculate the average ticket value per segment\n",
    "  ROUND(AVG(d.ticket) OVER (PARTITION BY d.segment), 2) AS ticket_avg_segment,\n",
    "  -- Calculate the maximum ticket value per segment\n",
    "  ROUND(MAX(d.ticket) OVER (PARTITION BY d.segment), 2) AS ticket_max_segment\n",
    "FROM (\n",
    "  -- Subquery to aggregate order data by year, month, and customer segment\n",
    "  SELECT \n",
    "    c.c_mktsegment AS segment,\n",
    "    YEAR(o.o_orderdate) AS year,\n",
    "    MONTH(o.o_orderdate) AS monthno,\n",
    "    SUM(o.o_totalprice) AS total_price, \n",
    "    COUNT(*) AS qty_orders,\n",
    "    -- Calculate the average order value (ticket)\n",
    "    ROUND(SUM(o.o_totalprice) / COUNT(*), 2) AS ticket\n",
    "  FROM orders AS o\n",
    "  INNER JOIN customer AS c ON c.c_custkey = o.o_custkey\n",
    "  WHERE o.o_orderstatus = 'F'\n",
    "  GROUP BY YEAR(o.o_orderdate), MONTH(o.o_orderdate), c.c_mktsegment\n",
    ") d\n",
    "ORDER BY d.year, d.monthno, d.segment"
   ]
  },
  {
   "cell_type": "markdown",
   "metadata": {
    "application/vnd.databricks.v1+cell": {
     "cellMetadata": {},
     "inputWidgets": {},
     "nuid": "24cafe22-4f03-4216-a93e-3bba1f1f7389",
     "showTitle": false,
     "tableResultSettingsMap": {},
     "title": ""
    }
   },
   "source": [
    "### Exemplo 2\n",
    "Este código fornece insights sobre o desempenho mensal de diferentes segmentos de mercado, incluindo como o valor médio do pedido (ticket) muda ao longo do tempo, tanto de mês para mês quanto de ano para ano."
   ]
  },
  {
   "cell_type": "code",
   "execution_count": 0,
   "metadata": {
    "application/vnd.databricks.v1+cell": {
     "cellMetadata": {
      "byteLimit": 2048000,
      "rowLimit": 10000
     },
     "inputWidgets": {},
     "nuid": "10e2b4e3-9ba3-4e86-aecf-6e2ba63798fd",
     "showTitle": false,
     "tableResultSettingsMap": {},
     "title": ""
    }
   },
   "outputs": [],
   "source": [
    "SELECT \n",
    "  d.period,  -- Period (year-month) of the order\n",
    "  d.year, \n",
    "  d.monthno, \n",
    "  d.segment, \n",
    "  d.total_price, \n",
    "  d.qty_orders AS orders,\n",
    "  d.ticket,\n",
    "  -- Previous month's ticket value within the same year and segment\n",
    "  LAG(d.ticket) OVER (PARTITION BY d.year, d.segment ORDER BY d.monthno) AS ticket_pm,\n",
    "  -- Variation from the previous month's ticket value\n",
    "  d.ticket - ticket_pm AS var_pm,\n",
    "  -- Ticket value from the same month in the previous year within the same segment\n",
    "  LAG(d.ticket, 12) OVER (PARTITION BY d.segment ORDER BY d.period) AS ticket_py,\n",
    "  -- Variation from the same month in the previous year's ticket value\n",
    "  d.ticket - ticket_py AS var_py\n",
    "FROM (\n",
    "  SELECT \n",
    "    c.c_mktsegment AS segment,\n",
    "    YEAR(o.o_orderdate) AS year,\n",
    "    MONTH(o.o_orderdate) AS monthno,\n",
    "    MAKE_DATE(year, monthno, 1) AS period,\n",
    "    SUM(o.o_totalprice) AS total_price, \n",
    "    COUNT(*) AS qty_orders,\n",
    "    ROUND(SUM(o.o_totalprice) / COUNT(*), 2) AS ticket\n",
    "  FROM orders AS o\n",
    "  INNER JOIN customer AS c ON c.c_custkey = o.o_custkey\n",
    "  WHERE o.o_orderstatus = 'F' AND o.o_orderdate < '1995-01-01'\n",
    "  GROUP BY YEAR(o.o_orderdate), MONTH(o.o_orderdate), c.c_mktsegment\n",
    ") d\n",
    "ORDER BY d.year, d.monthno, d.segment"
   ]
  },
  {
   "cell_type": "markdown",
   "metadata": {
    "application/vnd.databricks.v1+cell": {
     "cellMetadata": {},
     "inputWidgets": {},
     "nuid": "e8c71126-8349-4ff2-b764-2c66403d044d",
     "showTitle": false,
     "tableResultSettingsMap": {},
     "title": ""
    }
   },
   "source": [
    "### Exemplo 3"
   ]
  },
  {
   "cell_type": "markdown",
   "metadata": {
    "application/vnd.databricks.v1+cell": {
     "cellMetadata": {},
     "inputWidgets": {},
     "nuid": "8707066b-d997-4fc4-b017-2c516b15e0c2",
     "showTitle": false,
     "tableResultSettingsMap": {},
     "title": ""
    }
   },
   "source": [
    "#### Base"
   ]
  },
  {
   "cell_type": "code",
   "execution_count": 0,
   "metadata": {
    "application/vnd.databricks.v1+cell": {
     "cellMetadata": {
      "byteLimit": 2048000,
      "rowLimit": 10000
     },
     "inputWidgets": {},
     "nuid": "121c1c2c-40b1-4895-808e-bec0f4d1f2dc",
     "showTitle": false,
     "tableResultSettingsMap": {},
     "title": ""
    }
   },
   "outputs": [],
   "source": [
    "WITH cDados \n",
    "AS (\n",
    "    SELECT o.o_orderdate, \n",
    "    COUNT(*) qtd_orders\n",
    "    FROM orders AS o\n",
    "    GROUP BY o.o_orderdate\n",
    ")\n",
    "SELECT  \n",
    "  d.o_orderdate,\n",
    "  d.qtd_orders\n",
    "FROM cDados d"
   ]
  },
  {
   "cell_type": "markdown",
   "metadata": {
    "application/vnd.databricks.v1+cell": {
     "cellMetadata": {},
     "inputWidgets": {},
     "nuid": "4ae75221-4ff4-402b-ac01-d4274364b926",
     "showTitle": false,
     "tableResultSettingsMap": {},
     "title": ""
    }
   },
   "source": [
    "#### ROWS BETWEEN\n",
    "A consulta SQL abaixo calcula vários indicadores de pedidos ao longo do tempo, incluindo acumulados, médias móveis e variações diárias e semanais."
   ]
  },
  {
   "cell_type": "code",
   "execution_count": 0,
   "metadata": {
    "application/vnd.databricks.v1+cell": {
     "cellMetadata": {
      "byteLimit": 2048000,
      "rowLimit": 10000
     },
     "inputWidgets": {},
     "nuid": "5cc47fc2-a7d8-48dc-83a7-13311193f3f9",
     "showTitle": false,
     "tableResultSettingsMap": {},
     "title": ""
    }
   },
   "outputs": [],
   "source": [
    "WITH cDados \n",
    "AS (\n",
    "    SELECT o.o_orderdate, \n",
    "    COUNT(*) qtd_orders\n",
    "    FROM orders AS o\n",
    "    GROUP BY o.o_orderdate\n",
    ")\n",
    "SELECT  \n",
    "  d.o_orderdate,\n",
    "  d.qtd_orders,\n",
    "  SUM(d.qtd_orders) OVER (ORDER BY d.o_orderdate ROWS BETWEEN UNBOUNDED PRECEDING AND CURRENT ROW) orders_acumulado,\n",
    "  SUM(d.qtd_orders) OVER (ORDER BY d.o_orderdate ROWS BETWEEN 6 PRECEDING AND CURRENT ROW) AS orders_semana,\n",
    "  SUM(d.qtd_orders) OVER (ORDER BY d.o_orderdate ROWS BETWEEN 14 PRECEDING AND CURRENT ROW) AS orders_quinzena,\n",
    "  AVG(d.qtd_orders) OVER (ORDER BY d.o_orderdate ROWS BETWEEN 6 PRECEDING AND CURRENT ROW) AS media_movel_7_dias,\n",
    "  AVG(d.qtd_orders) OVER (ORDER BY d.o_orderdate ROWS BETWEEN 14 PRECEDING AND CURRENT ROW) AS media_movel_15_dias,  \n",
    "  d.qtd_orders - LAG(d.qtd_orders) OVER (ORDER BY d.o_orderdate) AS variacao_diaria,\n",
    "  d.qtd_orders - LAG(d.qtd_orders, 7) OVER (ORDER BY d.o_orderdate) AS variacao_semanal\n",
    "FROM cDados d"
   ]
  }
 ],
 "metadata": {
  "application/vnd.databricks.v1+notebook": {
   "computePreferences": null,
   "dashboards": [],
   "environmentMetadata": {
    "base_environment": "",
    "environment_version": "1"
   },
   "language": "sql",
   "notebookMetadata": {
    "pythonIndentUnit": 4
   },
   "notebookName": "databricks-sqlfundamental-demos",
   "widgets": {}
  },
  "language_info": {
   "name": "sql"
  }
 },
 "nbformat": 4,
 "nbformat_minor": 0
}
