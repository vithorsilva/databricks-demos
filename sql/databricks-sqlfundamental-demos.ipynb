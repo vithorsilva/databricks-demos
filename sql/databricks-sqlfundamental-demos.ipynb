{
 "cells": [
  {
   "cell_type": "markdown",
   "metadata": {
    "application/vnd.databricks.v1+cell": {
     "cellMetadata": {
      "byteLimit": 2048000,
      "rowLimit": 10000
     },
     "inputWidgets": {},
     "nuid": "c4fd1592-0833-4de1-af7b-4066297eda59",
     "showTitle": false,
     "title": ""
    }
   },
   "source": [
    "# Databricks - SQL Demo\n",
    "* **Autor:** Vithor da Silva e Silva\n",
    "* **Contato:** vithor@datasource.expert / https://github.com/vithorsilva\n",
    "* **Data:** 2024-10-03\n",
    "* **Objetivo:** Demonstrar comandos essenciais da linguagem SQL aplicado no Databricks"
   ]
  },
  {
   "cell_type": "markdown",
   "metadata": {
    "application/vnd.databricks.v1+cell": {
     "cellMetadata": {
      "byteLimit": 2048000,
      "rowLimit": 10000
     },
     "inputWidgets": {},
     "nuid": "b024143d-8322-4d8c-b1f2-df4931eec544",
     "showTitle": false,
     "title": ""
    }
   },
   "source": [
    "**Sobre: nyctaxi**\n",
    "Este é o banco de demonstração já disponível em todo workspace Databricks no catalogo samples."
   ]
  },
  {
   "cell_type": "code",
   "execution_count": 0,
   "metadata": {
    "application/vnd.databricks.v1+cell": {
     "cellMetadata": {
      "byteLimit": 2048000,
      "rowLimit": 10000
     },
     "inputWidgets": {},
     "nuid": "d5b476cb-d35e-456c-8df4-d1e3203dec2a",
     "showTitle": false,
     "title": ""
    }
   },
   "outputs": [],
   "source": [
    "use samples.tpch"
   ]
  },
  {
   "cell_type": "code",
   "execution_count": 0,
   "metadata": {
    "application/vnd.databricks.v1+cell": {
     "cellMetadata": {
      "byteLimit": 2048000,
      "rowLimit": 10000
     },
     "inputWidgets": {},
     "nuid": "f906ac74-262f-4e6d-af05-41ce8a347431",
     "showTitle": false,
     "title": ""
    }
   },
   "outputs": [],
   "source": [
    "show tables"
   ]
  },
  {
   "cell_type": "markdown",
   "metadata": {
    "application/vnd.databricks.v1+cell": {
     "cellMetadata": {
      "byteLimit": 2048000,
      "rowLimit": 10000
     },
     "inputWidgets": {},
     "nuid": "ae5f70ce-9b15-46f4-818b-8782e3d99416",
     "showTitle": false,
     "title": ""
    }
   },
   "source": [
    "# SELECT - Fundamental"
   ]
  },
  {
   "cell_type": "markdown",
   "metadata": {
    "application/vnd.databricks.v1+cell": {
     "cellMetadata": {
      "byteLimit": 2048000,
      "rowLimit": 10000
     },
     "inputWidgets": {},
     "nuid": "962344b8-57e3-40da-97d6-0a5a57ec1ace",
     "showTitle": false,
     "title": ""
    }
   },
   "source": [
    "## 1. Básico\n",
    "A clausula mais básica é sem dúvidas a SELECT * FROM OBJETO, onde todas colunas e linhas serão exibidas do objeto (tabela ou view) que você solicitar."
   ]
  },
  {
   "cell_type": "code",
   "execution_count": 0,
   "metadata": {
    "application/vnd.databricks.v1+cell": {
     "cellMetadata": {
      "byteLimit": 2048000,
      "rowLimit": 10000
     },
     "inputWidgets": {},
     "nuid": "0ab6eaed-dd46-4595-9a15-6df8a3133524",
     "showTitle": false,
     "title": ""
    }
   },
   "outputs": [],
   "source": [
    "select * from orders;"
   ]
  },
  {
   "cell_type": "markdown",
   "metadata": {
    "application/vnd.databricks.v1+cell": {
     "cellMetadata": {
      "byteLimit": 2048000,
      "rowLimit": 10000
     },
     "inputWidgets": {},
     "nuid": "fb548840-dd14-46c2-a941-65c8d40bcce7",
     "showTitle": false,
     "title": ""
    }
   },
   "source": [
    "Imaginando que o objeto selecionado pode conter milhões de registros, recomenda-se sempre a inclusão de um limit para trabalhar assim com uma amostra de dados."
   ]
  },
  {
   "cell_type": "code",
   "execution_count": 0,
   "metadata": {
    "application/vnd.databricks.v1+cell": {
     "cellMetadata": {
      "byteLimit": 2048000,
      "rowLimit": 10000
     },
     "inputWidgets": {},
     "nuid": "1502650c-4928-405a-bfc1-21867947729b",
     "showTitle": false,
     "title": ""
    }
   },
   "outputs": [],
   "source": [
    "select * from orders limit 100;"
   ]
  },
  {
   "cell_type": "markdown",
   "metadata": {
    "application/vnd.databricks.v1+cell": {
     "cellMetadata": {
      "byteLimit": 2048000,
      "rowLimit": 10000
     },
     "inputWidgets": {},
     "nuid": "ea7bd2f9-edc2-4328-a2d6-4925da3d78b6",
     "showTitle": false,
     "title": ""
    }
   },
   "source": [
    "## 2. Filtrando\n",
    "Esta consulta SQL recupera todas as colunas (*) da tabela orders, que é referenciada como o. Ela filtra os resultados para incluir apenas as linhas onde a coluna o_orderstatus tem o valor 'F'. \n",
    "O alias o é usado para simplificar a referência à tabela orders dentro da consulta."
   ]
  },
  {
   "cell_type": "code",
   "execution_count": 0,
   "metadata": {
    "application/vnd.databricks.v1+cell": {
     "cellMetadata": {
      "byteLimit": 2048000,
      "rowLimit": 10000
     },
     "inputWidgets": {},
     "nuid": "9f068da4-5f0f-418d-a910-845c3c58f43c",
     "showTitle": false,
     "title": ""
    }
   },
   "outputs": [],
   "source": [
    "SELECT * \n",
    "FROM orders as o\n",
    "where o.o_orderstatus = 'F'"
   ]
  },
  {
   "cell_type": "markdown",
   "metadata": {
    "application/vnd.databricks.v1+cell": {
     "cellMetadata": {
      "byteLimit": 2048000,
      "rowLimit": 10000
     },
     "inputWidgets": {},
     "nuid": "131e3ab3-858d-4f81-9626-116bfb94de7f",
     "showTitle": false,
     "title": ""
    }
   },
   "source": [
    "## 3. Colunas\n",
    "\n",
    "Esta consulta SQL recupera detalhes específicos da tabela orders para pedidos que têm o status 'F'. Aqui está uma explicação de cada parte da consulta:\n",
    "\n",
    "* SELECT: Especifica as colunas a serem recuperadas que são:\n",
    "  * o.o_orderkey\n",
    "  * o.o_custkey\n",
    "  * o.o_totalprice\n",
    "  * year(o.o_orderdate) as year: Extrai o ano da data do pedido e o rotula como year.\n",
    "  * o.o_orderpriority as priority: Recupera a prioridade do pedido e a rotula como priority.\n",
    "* FROM orders as o: Especifica a tabela orders como a fonte dos dados e atribui a ela o alias o.\n",
    "* WHERE o.o_orderstatus = 'F': Filtra os resultados para incluir apenas os pedidos onde o status do pedido é 'F'.\n",
    "\n",
    "Em resumo, a consulta busca a chave do pedido, a chave do cliente, o preço total, o ano da data do pedido e a prioridade do pedido para todos os pedidos com status 'F'.\n"
   ]
  },
  {
   "cell_type": "code",
   "execution_count": 0,
   "metadata": {
    "application/vnd.databricks.v1+cell": {
     "cellMetadata": {
      "byteLimit": 2048000,
      "rowLimit": 10000
     },
     "inputWidgets": {},
     "nuid": "6d71b437-9ce0-415c-bd87-c3ca764913af",
     "showTitle": false,
     "title": ""
    }
   },
   "outputs": [],
   "source": [
    "SELECT \n",
    "  o.o_orderkey, \n",
    "  o.o_custkey, \n",
    "  o.o_totalprice, \n",
    "  year(o.o_orderdate) as year, \n",
    "  o.o_orderpriority as priority\n",
    "FROM orders as o\n",
    "where o.o_orderstatus = 'F'"
   ]
  },
  {
   "cell_type": "markdown",
   "metadata": {
    "application/vnd.databricks.v1+cell": {
     "cellMetadata": {
      "byteLimit": 2048000,
      "rowLimit": 10000
     },
     "inputWidgets": {},
     "nuid": "565b40f0-1ec1-4628-8dc3-b83189c8028a",
     "showTitle": false,
     "title": ""
    }
   },
   "source": [
    "## 4. Junções\n",
    "Este código SQL realiza uma consulta para selecionar informações específicas de pedidos concluídos, combinando dados das tabelas orders e customer.\n",
    "\n",
    "Algumas colunas são selecionadas, mas observe que agora uma nova coluna foi adicionada e de uma tabela que está complementando o resultado, indicando qual o segmento o cliente que comprou pertence.\n",
    "\n",
    "```sql\n",
    "INNER JOIN customer as c ON c.c_custkey = o.o_custkey\n",
    "```\n",
    "Combina as tabelas orders e customer onde a chave do cliente (c_custkey) na tabela customer corresponde à chave do cliente (o_custkey) na tabela orders.\n"
   ]
  },
  {
   "cell_type": "code",
   "execution_count": 0,
   "metadata": {
    "application/vnd.databricks.v1+cell": {
     "cellMetadata": {
      "byteLimit": 2048000,
      "rowLimit": 10000
     },
     "inputWidgets": {},
     "nuid": "aa32177e-2c29-4ed5-bc53-88af668451c3",
     "showTitle": false,
     "title": ""
    }
   },
   "outputs": [],
   "source": [
    "SELECT \n",
    "  o.o_orderkey, \n",
    "  c.c_mktsegment as segment,\n",
    "  o.o_totalprice, \n",
    "  year(o.o_orderdate) as year, \n",
    "  o.o_orderpriority as priority\n",
    "FROM orders as o\n",
    "INNER JOIN customer as c ON c.c_custkey = o.o_custkey\n",
    "where o.o_orderstatus = 'F'"
   ]
  },
  {
   "cell_type": "markdown",
   "metadata": {
    "application/vnd.databricks.v1+cell": {
     "cellMetadata": {
      "byteLimit": 2048000,
      "rowLimit": 10000
     },
     "inputWidgets": {},
     "nuid": "2ece647f-b5f0-4df5-b69b-1920ca6e86c5",
     "showTitle": false,
     "title": ""
    }
   },
   "source": [
    "## 5. Agrupando dados"
   ]
  },
  {
   "cell_type": "markdown",
   "metadata": {
    "application/vnd.databricks.v1+cell": {
     "cellMetadata": {
      "byteLimit": 2048000,
      "rowLimit": 10000
     },
     "inputWidgets": {},
     "nuid": "31fd6648-1b30-4b35-8af3-c38fd155df87",
     "showTitle": false,
     "title": ""
    }
   },
   "source": [
    "### Exemplo 1\n",
    "Somente uma coluna sendo agrupada.\n",
    "\n",
    "1. **SELECT**: Esta cláusula está selecionando três colunas:\n",
    "    * c.c_mktsegment como segment: O segmento de mercado do cliente.\n",
    "    * SUM(o.o_totalprice) como total_price: A soma dos preços totais dos pedidos.\n",
    "    * count(*) como qty_orders: A contagem total de pedidos.\n",
    "\n",
    "2. **FROM** orders as o: Especifica a tabela orders com o alias o.\n",
    "\n",
    "3. **INNER JOIN** customer as c ON c.c_custkey = o.o_custkey: Realiza uma junção interna entre a tabela orders (pedidos) e a tabela customer (clientes) onde a chave do cliente (c_custkey) na tabela customer corresponde à chave do cliente (o_custkey) na tabela orders.\n",
    "\n",
    "4. **WHERE** o.o_orderstatus = 'F': Filtra os resultados para incluir apenas os pedidos cujo status (o_orderstatus) é 'F' (finalizado).\n",
    "\n",
    "5. **GROUP BY** c.c_mktsegment: Agrupa os resultados pelo segmento de mercado do cliente (c_mktsegment).\n",
    "\n",
    "Em resumo, este código SQL está calculando o total de preços e a quantidade de pedidos finalizados, agrupados por segmento de mercado dos clientes."
   ]
  },
  {
   "cell_type": "code",
   "execution_count": 0,
   "metadata": {
    "application/vnd.databricks.v1+cell": {
     "cellMetadata": {
      "byteLimit": 2048000,
      "rowLimit": 10000
     },
     "inputWidgets": {},
     "nuid": "ad889b14-58da-4e98-aeee-53bdb7fbcbdd",
     "showTitle": false,
     "title": ""
    }
   },
   "outputs": [],
   "source": [
    "SELECT \n",
    "  c.c_mktsegment as segment,\n",
    "  SUM(o.o_totalprice) total_price, \n",
    "  count(*) qty_orders\n",
    "FROM orders as o\n",
    "INNER JOIN customer as c ON c.c_custkey = o.o_custkey\n",
    "where o.o_orderstatus = 'F'\n",
    "group by c.c_mktsegment"
   ]
  },
  {
   "cell_type": "markdown",
   "metadata": {
    "application/vnd.databricks.v1+cell": {
     "cellMetadata": {
      "byteLimit": 2048000,
      "rowLimit": 10000
     },
     "inputWidgets": {},
     "nuid": "c49f54ab-4095-4301-ba21-dd5f0401209d",
     "showTitle": false,
     "title": ""
    }
   },
   "source": [
    "### Exemplo 2\n",
    "Mais de uma coluna sendo agrupada, semelhante ao caso anterior, porém adicionando uma coluna que é o ano da venda (extraida por função de uma coluna de data/hora)."
   ]
  },
  {
   "cell_type": "code",
   "execution_count": 0,
   "metadata": {
    "application/vnd.databricks.v1+cell": {
     "cellMetadata": {
      "byteLimit": 2048000,
      "rowLimit": 10000
     },
     "inputWidgets": {},
     "nuid": "43ce1c01-f9a5-4451-95db-019acda17884",
     "showTitle": false,
     "title": ""
    }
   },
   "outputs": [
    {
     "output_type": "display_data",
     "data": {
      "text/plain": [
       "Databricks visualization. Run in Databricks to view."
      ]
     },
     "metadata": {
      "application/vnd.databricks.v1.subcommand+json": {
       "baseErrorDetails": null,
       "bindings": {},
       "collapsed": false,
       "command": "%sql WITH q AS (SELECT \n  c.c_mktsegment as segment,\n  year(o.o_orderdate) as year,\n  SUM(o.o_totalprice) total_price, \n  count(*) qty_orders\nFROM orders as o\nINNER JOIN customer as c ON c.c_custkey = o.o_custkey\nwhere o.o_orderstatus = 'F'\ngroup by c.c_mktsegment, year(o.o_orderdate)) SELECT `year`,`segment`,SUM(`total_price`) `column_994c6bf49` FROM q GROUP BY `segment`,`year`",
       "commandTitle": "Visualization 1",
       "commandType": "auto",
       "commandVersion": 0,
       "commentThread": [],
       "commentsVisible": false,
       "contentSha256Hex": null,
       "customPlotOptions": {
        "redashChart": [
         {
          "key": "type",
          "value": "CHART"
         },
         {
          "key": "options",
          "value": {
           "alignYAxesAtZero": true,
           "coefficient": 1,
           "columnConfigurationMap": {
            "series": {
             "column": "segment",
             "id": "column_994c6bf47"
            },
            "x": {
             "column": "year",
             "id": "column_994c6bf46"
            },
            "y": [
             {
              "column": "total_price",
              "id": "column_994c6bf49",
              "transform": "SUM"
             }
            ]
           },
           "dateTimeFormat": "DD/MM/YYYY HH:mm",
           "direction": {
            "type": "counterclockwise"
           },
           "error_y": {
            "type": "data",
            "visible": true
           },
           "globalSeriesType": "column",
           "isAggregationOn": true,
           "legend": {
            "traceorder": "normal"
           },
           "missingValuesAsZero": true,
           "numBins": 10,
           "numberFormat": "0,0.[00000]",
           "percentFormat": "0[.]00%",
           "series": {
            "error_y": {
             "type": "data",
             "visible": true
            },
            "stacking": null
           },
           "seriesOptions": {
            "column_994c6bf49": {
             "type": "column",
             "yAxis": 0
            }
           },
           "showDataLabels": false,
           "sizemode": "diameter",
           "sortX": true,
           "sortY": true,
           "swappedAxes": false,
           "textFormat": "",
           "useAggregationsUi": true,
           "valuesOptions": {},
           "version": 2,
           "xAxis": {
            "labels": {
             "enabled": true
            },
            "type": "category"
           },
           "yAxis": [
            {
             "type": "-"
            },
            {
             "opposite": true,
             "type": "-"
            }
           ]
          }
         }
        ]
       },
       "datasetPreviewNameToCmdIdMap": {},
       "diffDeletes": [],
       "diffInserts": [],
       "displayType": "redashChart",
       "error": null,
       "errorDetails": null,
       "errorSummary": null,
       "errorTraceType": null,
       "finishTime": 0,
       "globalVars": {},
       "guid": "",
       "height": "auto",
       "hideCommandCode": false,
       "hideCommandResult": false,
       "iPythonMetadata": null,
       "inputWidgets": {},
       "isLockedInExamMode": false,
       "latestUser": "a user",
       "latestUserId": null,
       "listResultMetadata": null,
       "metadata": {
        "byteLimit": 2048000,
        "rowLimit": 10000
       },
       "nuid": "8e70d353-fede-4812-9202-cebcad0cf740",
       "origId": 0,
       "parentHierarchy": [],
       "pivotAggregation": null,
       "pivotColumns": null,
       "position": 13.0,
       "resultDbfsErrorMessage": null,
       "resultDbfsStatus": "INLINED_IN_TREE",
       "results": null,
       "showCommandTitle": false,
       "startTime": 0,
       "state": "input",
       "streamStates": {},
       "subcommandOptions": {
        "queryPlan": {
         "groups": [
          {
           "column": "year",
           "type": "column"
          },
          {
           "column": "segment",
           "type": "column"
          }
         ],
         "selects": [
          {
           "column": "year",
           "type": "column"
          },
          {
           "column": "segment",
           "type": "column"
          },
          {
           "alias": "column_994c6bf49",
           "args": [
            {
             "column": "total_price",
             "type": "column"
            }
           ],
           "function": "SUM",
           "type": "function"
          }
         ]
        }
       },
       "submitTime": 0,
       "subtype": "tableResultSubCmd.visualization",
       "tableResultIndex": 0,
       "tableResultSettingsMap": null,
       "useConsistentColors": false,
       "version": "CommandV1",
       "width": "auto",
       "workflows": null,
       "xColumns": null,
       "yColumns": null
      }
     },
     "output_type": "display_data"
    }
   ],
   "source": [
    "SELECT \n",
    "  c.c_mktsegment as segment,\n",
    "  year(o.o_orderdate) as year,\n",
    "  SUM(o.o_totalprice) total_price, \n",
    "  count(*) qty_orders\n",
    "FROM orders as o\n",
    "INNER JOIN customer as c ON c.c_custkey = o.o_custkey\n",
    "where o.o_orderstatus = 'F'\n",
    "group by c.c_mktsegment, year(o.o_orderdate)"
   ]
  },
  {
   "cell_type": "markdown",
   "metadata": {
    "application/vnd.databricks.v1+cell": {
     "cellMetadata": {},
     "inputWidgets": {},
     "nuid": "0859d781-6005-41b8-b1c6-6f1fa0390889",
     "showTitle": false,
     "title": ""
    }
   },
   "source": [
    "## 6. HAVING\n",
    "E se fosse interessante buscar apenas segmentos que tiveram menos de 50 mil ordens?"
   ]
  },
  {
   "cell_type": "code",
   "execution_count": 0,
   "metadata": {
    "application/vnd.databricks.v1+cell": {
     "cellMetadata": {
      "byteLimit": 2048000,
      "rowLimit": 10000
     },
     "inputWidgets": {},
     "nuid": "3d63a441-22ed-4a9c-b622-7fdc2a14d761",
     "showTitle": false,
     "title": ""
    }
   },
   "outputs": [],
   "source": [
    "SELECT \n",
    "  c.c_mktsegment as segment,\n",
    "  year(o.o_orderdate) as year,\n",
    "  SUM(o.o_totalprice) total_price, \n",
    "  count(*) qty_orders\n",
    "FROM orders as o\n",
    "INNER JOIN customer as c ON c.c_custkey = o.o_custkey\n",
    "where o.o_orderstatus = 'F'\n",
    "group by c.c_mktsegment, year(o.o_orderdate)\n",
    "HAVING count(*) < 50000"
   ]
  },
  {
   "cell_type": "markdown",
   "metadata": {
    "application/vnd.databricks.v1+cell": {
     "cellMetadata": {
      "byteLimit": 2048000,
      "rowLimit": 10000
     },
     "inputWidgets": {},
     "nuid": "dc84e7c0-97c7-4d01-8209-349659637b63",
     "showTitle": false,
     "title": ""
    }
   },
   "source": [
    "# SELECT - Intermediário"
   ]
  },
  {
   "cell_type": "code",
   "execution_count": 0,
   "metadata": {
    "application/vnd.databricks.v1+cell": {
     "cellMetadata": {
      "byteLimit": 2048000,
      "rowLimit": 10000
     },
     "inputWidgets": {},
     "nuid": "708d7c34-a08a-485b-90e5-d07d6753bfbe",
     "showTitle": false,
     "title": ""
    }
   },
   "outputs": [],
   "source": [
    "use samples.tpch"
   ]
  },
  {
   "cell_type": "markdown",
   "metadata": {
    "application/vnd.databricks.v1+cell": {
     "cellMetadata": {
      "byteLimit": 2048000,
      "rowLimit": 10000
     },
     "inputWidgets": {},
     "nuid": "7bd81b67-0ba8-455d-89a9-ec4060364e09",
     "showTitle": false,
     "title": ""
    }
   },
   "source": [
    "## 1. PIVOT"
   ]
  },
  {
   "cell_type": "markdown",
   "metadata": {
    "application/vnd.databricks.v1+cell": {
     "cellMetadata": {
      "byteLimit": 2048000,
      "rowLimit": 10000
     },
     "inputWidgets": {},
     "nuid": "0d10c8e8-0fc1-4784-9595-4d917545a743",
     "showTitle": false,
     "title": ""
    }
   },
   "source": [
    "### Exemplo 1\n",
    "O código SQL realiza uma consulta para pivotar os dados de pedidos finalizados, agrupando-os por segmento de mercado e ano. \n",
    "\n",
    "A consulta interna agrega os dados e a consulta externa realiza a operação de pivot."
   ]
  },
  {
   "cell_type": "code",
   "execution_count": 0,
   "metadata": {
    "application/vnd.databricks.v1+cell": {
     "cellMetadata": {
      "byteLimit": 2048000,
      "rowLimit": 10000
     },
     "inputWidgets": {},
     "nuid": "d0936e0b-02ae-4abf-af18-ddafbfdee9ad",
     "showTitle": false,
     "title": ""
    }
   },
   "outputs": [],
   "source": [
    "SELECT d.segment, d.`1992`, d.`1993`, d.`1994`, d.`1995`\n",
    "FROM (\n",
    "  SELECT *\n",
    "  FROM (\n",
    "    SELECT \n",
    "      c.c_mktsegment as segment,\n",
    "      year(o.o_orderdate) as year_order,\n",
    "      SUM(o.o_totalprice) total_price\n",
    "    FROM orders as o\n",
    "    INNER JOIN customer as c ON c.c_custkey = o.o_custkey\n",
    "    WHERE o.o_orderstatus = 'F'\n",
    "    GROUP BY c.c_mktsegment, year(o.o_orderdate)\n",
    "  ) \n",
    "  PIVOT (\n",
    "    sum(total_price) for (year_order) IN ('1990', '1991', '1992', '1993', '1994', '1995', '1996', '1997', '1998', '1999')\n",
    "  ) \n",
    ") d"
   ]
  },
  {
   "cell_type": "markdown",
   "metadata": {
    "application/vnd.databricks.v1+cell": {
     "cellMetadata": {
      "byteLimit": 2048000,
      "rowLimit": 10000
     },
     "inputWidgets": {},
     "nuid": "9d9249b7-7d2b-4ca0-8e25-6523136452eb",
     "showTitle": false,
     "title": ""
    }
   },
   "source": [
    "### Exemplo 2\n",
    "O código SQL está agregando os preços totais dos pedidos finalizados por segmento de mercado e região, e depois transforma esses dados para que os totais anuais apareçam como colunas separadas para os anos de 1992 a 1995.\n",
    "\n",
    "* **Subconsulta Interna**:\n",
    "  * A subconsulta interna seleciona dados das tabelas orders, customer, nation e region.\n",
    "  * As tabelas são unidas (INNER JOIN) com base em chaves estrangeiras.\n",
    "  * Filtra os pedidos (orders) que têm o status 'F'.\n",
    "  * Agrupa os resultados por segmento de mercado do cliente (c.c_mktsegment), nome da região (r.r_name) e ano do pedido (year(o.o_orderdate)).\n",
    "  * Calcula a soma dos preços totais dos pedidos (SUM(o.o_totalprice)) para cada grupo.\n",
    "\n",
    "* **PIVOT**:\n",
    "  * A subconsulta intermediária aplica uma operação de pivot para transformar linhas em colunas.\n",
    "  * A operação de pivot agrupa os dados por year_order e calcula a soma dos preços totais (sum(total_price)) para os anos de 1990 a 1999."
   ]
  },
  {
   "cell_type": "code",
   "execution_count": 0,
   "metadata": {
    "application/vnd.databricks.v1+cell": {
     "cellMetadata": {
      "byteLimit": 2048000,
      "rowLimit": 10000
     },
     "inputWidgets": {},
     "nuid": "c6ab667e-f4a4-4adf-9ece-1d16b744278e",
     "showTitle": false,
     "title": ""
    }
   },
   "outputs": [],
   "source": [
    "SELECT d.region, d.segment,  d.`1992`, d.`1993`, d.`1994`, d.`1995`\n",
    "FROM (\n",
    "  SELECT *\n",
    "  FROM (\n",
    "    SELECT \n",
    "      c.c_mktsegment as segment, \n",
    "      r.r_name as region,\n",
    "      year(o.o_orderdate) as year_order,\n",
    "      SUM(o.o_totalprice) total_price\n",
    "    FROM orders as o\n",
    "    INNER JOIN customer as c ON c.c_custkey = o.o_custkey\n",
    "    INNER JOIN nation as n ON n.n_nationkey = c.c_nationkey\n",
    "    INNER JOIN region as r ON r.r_regionkey = n.n_regionkey\n",
    "    WHERE o.o_orderstatus = 'F'\n",
    "    GROUP BY c.c_mktsegment, r.r_name, year(o.o_orderdate)\n",
    "  ) \n",
    "  PIVOT (\n",
    "    sum(total_price) for (year_order) IN ('1990', '1991', '1992', '1993', '1994', '1995', '1996', '1997', '1998', '1999')\n",
    "  ) \n",
    ") d"
   ]
  },
  {
   "cell_type": "code",
   "execution_count": 0,
   "metadata": {
    "application/vnd.databricks.v1+cell": {
     "cellMetadata": {
      "byteLimit": 2048000,
      "rowLimit": 10000
     },
     "inputWidgets": {},
     "nuid": "14b2d555-c0ae-44a6-97f9-430b37b29b49",
     "showTitle": false,
     "title": ""
    }
   },
   "outputs": [],
   "source": [
    "select * from region"
   ]
  },
  {
   "cell_type": "markdown",
   "metadata": {
    "application/vnd.databricks.v1+cell": {
     "cellMetadata": {
      "byteLimit": 2048000,
      "rowLimit": 10000
     },
     "inputWidgets": {},
     "nuid": "82d0acd5-6144-427d-87c3-4b7d239eb041",
     "showTitle": false,
     "title": ""
    }
   },
   "source": [
    "## 2. Funções"
   ]
  },
  {
   "cell_type": "code",
   "execution_count": 0,
   "metadata": {
    "application/vnd.databricks.v1+cell": {
     "cellMetadata": {
      "byteLimit": 2048000,
      "rowLimit": 10000
     },
     "inputWidgets": {},
     "nuid": "8b4f6b7f-3f23-42ed-abba-0e91e46a8139",
     "showTitle": false,
     "title": ""
    }
   },
   "outputs": [],
   "source": [
    "select * from lineitem as li\n",
    "limit 100"
   ]
  },
  {
   "cell_type": "markdown",
   "metadata": {
    "application/vnd.databricks.v1+cell": {
     "cellMetadata": {
      "byteLimit": 2048000,
      "rowLimit": 10000
     },
     "inputWidgets": {},
     "nuid": "3784554f-6cf1-4ebd-afb1-cd571d586e44",
     "showTitle": false,
     "title": ""
    }
   },
   "source": [
    "### Exemplo Básico\n",
    "Funções de agregação apoiam na realização de cálculos ou operações em cima de colunas.\n",
    "\n",
    "Este código SQL realiza uma consulta na tabela lineitem (li) e retorna as seguintes informações:\n",
    "* qtd_rows: Contagem total de linhas.\n",
    "* total_orders: Contagem de pedidos distintos (l_orderkey).\n",
    "* qtd_distinct_produtos: Contagem de produtos distintos (l_partkey).\n",
    "* total_revenue: Soma dos preços estendidos (l_extendedprice).\n",
    "* total_profit: Soma dos preços estendidos ajustados pelo desconto (l_extendedprice * (1 - l_discount)).\n",
    "* min_quantity: Quantidade mínima (l_quantity).\n",
    "* avg_quantity: Quantidade média (l_quantity).\n",
    "* max_quantity: Quantidade máxima (l_quantity)."
   ]
  },
  {
   "cell_type": "code",
   "execution_count": 0,
   "metadata": {
    "application/vnd.databricks.v1+cell": {
     "cellMetadata": {
      "byteLimit": 2048000,
      "rowLimit": 10000
     },
     "inputWidgets": {},
     "nuid": "6b1128f1-8236-402b-af49-1cef6a390bb4",
     "showTitle": false,
     "title": ""
    }
   },
   "outputs": [],
   "source": [
    "select \n",
    "  COUNT(*) qtd_rows,\n",
    "  COUNT(DISTINCT li.l_orderkey) as total_orders,\n",
    "  COUNT(DISTINCT li.l_partkey) qtd_distinct_produtos,\n",
    "  SUM(li.l_extendedprice) as total_revenue,\n",
    "  SUM(li.l_extendedprice * (1 - li.l_discount)) as total_profit,\n",
    "  MIN(li.l_quantity) as min_quantity,\n",
    "  AVG(li.l_quantity) as avg_quantity,\n",
    "  MAX(li.l_quantity) as max_quantity  \n",
    "from lineitem as li"
   ]
  },
  {
   "cell_type": "markdown",
   "metadata": {
    "application/vnd.databricks.v1+cell": {
     "cellMetadata": {
      "byteLimit": 2048000,
      "rowLimit": 10000
     },
     "inputWidgets": {},
     "nuid": "82abe2b7-8dc6-40ed-96fa-bd1ec5a487a2",
     "showTitle": false,
     "title": ""
    }
   },
   "source": [
    "### Agregações por Coluna\n",
    "O caso anterior, exibiam indicadores calculados para toda a massa de dados, mas e se fosse necessário exibir os dados pela data da venda?\n",
    "Ou seja, quantos registros, produtos distintos dentre outros, foram comercializados dia a dia?"
   ]
  },
  {
   "cell_type": "code",
   "execution_count": 0,
   "metadata": {
    "application/vnd.databricks.v1+cell": {
     "cellMetadata": {
      "byteLimit": 2048000,
      "rowLimit": 10000
     },
     "inputWidgets": {},
     "nuid": "01fd170e-b621-4b2c-844c-67d3a8f43440",
     "showTitle": false,
     "title": ""
    }
   },
   "outputs": [],
   "source": [
    "select \n",
    "  o.o_orderdate,\n",
    "  COUNT(*) qtd_rows,\n",
    "  COUNT(DISTINCT li.l_orderkey) as total_orders,\n",
    "  COUNT(DISTINCT li.l_partkey) qtd_distinct_produtos,\n",
    "  SUM(li.l_extendedprice) as total_revenue,\n",
    "  MAX(li.l_extendedprice) as max_revenue,\n",
    "  MIN(li.l_extendedprice) as min_revenue,\n",
    "  AVG(li.l_extendedprice) as avg_revenue,\n",
    "  SUM(li.l_extendedprice * (1 - li.l_discount)) as total_profit,\n",
    "  AVG(li.l_quantity) as avg_quantity\n",
    "from lineitem as li\n",
    "INNER JOIN orders as o ON o.o_orderkey = li.l_orderkey\n",
    "group by o.o_orderdate\n",
    "order by o_orderdate ASC"
   ]
  },
  {
   "cell_type": "markdown",
   "metadata": {
    "application/vnd.databricks.v1+cell": {
     "cellMetadata": {
      "byteLimit": 2048000,
      "rowLimit": 10000
     },
     "inputWidgets": {},
     "nuid": "7611f871-3c58-4082-b63f-85fff2ca051e",
     "showTitle": false,
     "title": ""
    }
   },
   "source": [
    "### Agregações por Coluna II\n",
    "E se fosse necessário ver os indicadores apenas por ano e mês, baseado na coluna orderdate?\n",
    "Faremos o uso de funções escalares como MONTH() e YEAR() para extrair informações originalmente de uma coluna."
   ]
  },
  {
   "cell_type": "code",
   "execution_count": 0,
   "metadata": {
    "application/vnd.databricks.v1+cell": {
     "cellMetadata": {
      "byteLimit": 2048000,
      "rowLimit": 10000
     },
     "inputWidgets": {},
     "nuid": "e479e84d-7f55-4c73-a786-d7e56f505f24",
     "showTitle": false,
     "title": ""
    }
   },
   "outputs": [],
   "source": [
    "select \n",
    "  year(o.o_orderdate) as year,\n",
    "  month(o.o_orderdate) as month,\n",
    "  COUNT(DISTINCT li.l_orderkey) as total_orders,\n",
    "  COUNT(DISTINCT li.l_partkey) qtd_distinct_produtos,\n",
    "  SUM(li.l_extendedprice) as total_revenue\n",
    "from lineitem as li\n",
    "INNER JOIN orders as o ON o.o_orderkey = li.l_orderkey\n",
    "group by year(o.o_orderdate), month(o.o_orderdate)\n",
    "order by year, month"
   ]
  },
  {
   "cell_type": "markdown",
   "metadata": {
    "application/vnd.databricks.v1+cell": {
     "cellMetadata": {
      "byteLimit": 2048000,
      "rowLimit": 10000
     },
     "inputWidgets": {},
     "nuid": "1aa720d2-342e-4fb3-9b0b-11bd02991a6d",
     "showTitle": false,
     "title": ""
    }
   },
   "source": [
    "## 3. GROUP BY avançado"
   ]
  },
  {
   "cell_type": "markdown",
   "metadata": {
    "application/vnd.databricks.v1+cell": {
     "cellMetadata": {
      "byteLimit": 2048000,
      "rowLimit": 10000
     },
     "inputWidgets": {},
     "nuid": "c1fdf5d6-3cbc-4b79-b0a9-0c57269181f6",
     "showTitle": false,
     "title": ""
    }
   },
   "source": [
    "### GROUPING SETS - Exemplo 1\n",
    "O uso de GROUPING SETS no seu código SQL oferece várias vantagens:\n",
    "\n",
    "**Flexibilidade na Agregação:** GROUPING SETS permite definir múltiplos níveis de agregação em uma única consulta. No seu caso, você está agregando por ano, por mês, por ano e mês combinados, e um total geral. Isso elimina a necessidade de escrever múltiplas consultas separadas para cada nível de agregação.\n",
    "\n",
    "**Redução de Código:** Em vez de escrever várias consultas com diferentes cláusulas GROUP BY, você pode consolidar tudo em uma única consulta. Isso torna o código mais limpo e fácil de manter.\n",
    "\n",
    "**Melhor Desempenho:** Usar GROUPING SETS pode ser mais eficiente do que executar várias consultas separadas, pois o banco de dados pode otimizar a execução interna para calcular todos os agrupamentos em uma única varredura dos dados.\n",
    "\n",
    "**Facilidade de Interpretação:** A função GROUPING_ID ajuda a identificar o contexto de cada linha no resultado, indicando quais colunas foram usadas para agrupar os dados. Isso facilita a interpretação dos resultados agregados.\n",
    "\n",
    "**Versatilidade:** GROUPING SETS é uma funcionalidade poderosa que pode ser combinada com outras funções de agregação e cláusulas SQL, oferecendo uma grande versatilidade na análise de dados.\n",
    "\n",
    "**Redução de Erros:** Consolidar múltiplos agrupamentos em uma única consulta reduz a probabilidade de erros que podem ocorrer ao manter várias consultas separadas."
   ]
  },
  {
   "cell_type": "code",
   "execution_count": 0,
   "metadata": {
    "application/vnd.databricks.v1+cell": {
     "cellMetadata": {
      "byteLimit": 2048000,
      "rowLimit": 10000
     },
     "inputWidgets": {},
     "nuid": "08f2c88a-ec83-4fa1-a74b-be6148c7dbc6",
     "showTitle": false,
     "title": ""
    }
   },
   "outputs": [],
   "source": [
    "select \n",
    "  GROUPING_ID(year(o.o_orderdate), month(o.o_orderdate)) as Contexto,\n",
    "  year(o.o_orderdate) as year,\n",
    "  month(o.o_orderdate) as month,\n",
    "  COUNT(DISTINCT li.l_orderkey) as total_orders,\n",
    "  COUNT(DISTINCT li.l_partkey) qtd_distinct_produtos,\n",
    "  SUM(li.l_extendedprice) as total_revenue\n",
    "from lineitem as li\n",
    "INNER JOIN orders as o ON o.o_orderkey = li.l_orderkey\n",
    "group by GROUPING SETS (\n",
    "    (year(o.o_orderdate)),\n",
    "    (month(o.o_orderdate)),\n",
    "    (year(o.o_orderdate), month(o.o_orderdate)),\n",
    "    ()\n",
    "    )\n",
    "order by Contexto, year, month"
   ]
  },
  {
   "cell_type": "markdown",
   "metadata": {
    "application/vnd.databricks.v1+cell": {
     "cellMetadata": {
      "byteLimit": 2048000,
      "rowLimit": 10000
     },
     "inputWidgets": {},
     "nuid": "44189a37-74bf-46c3-8c4e-a817f0eeefec",
     "showTitle": false,
     "title": ""
    }
   },
   "source": [
    "### GROUPING SETS - Exemplo 2"
   ]
  },
  {
   "cell_type": "code",
   "execution_count": 0,
   "metadata": {
    "application/vnd.databricks.v1+cell": {
     "cellMetadata": {
      "byteLimit": 2048000,
      "rowLimit": 10000
     },
     "inputWidgets": {},
     "nuid": "2a82e123-2813-483c-8604-c0393f9e6988",
     "showTitle": false,
     "title": ""
    }
   },
   "outputs": [],
   "source": [
    "select \n",
    "  GROUPING_ID(year(o.o_orderdate), pa.p_type, month(o.o_orderdate)) as Contexto,\n",
    "  pa.p_type as producttype,\n",
    "  year(o.o_orderdate) as year,\n",
    "  month(o.o_orderdate) as month,\n",
    "  COUNT(DISTINCT li.l_orderkey) as total_orders,\n",
    "  COUNT(DISTINCT li.l_partkey) qtd_distinct_produtos,\n",
    "  SUM(li.l_extendedprice) as total_revenue\n",
    "from lineitem as li\n",
    "INNER JOIN orders as o ON o.o_orderkey = li.l_orderkey\n",
    "INNER JOIN part as pa ON pa.p_partkey = li.l_partkey\n",
    "group by GROUPING SETS (\n",
    "    (year(o.o_orderdate)),\n",
    "    (year(o.o_orderdate), pa.p_type),\n",
    "    (month(o.o_orderdate)),\n",
    "    (year(o.o_orderdate), month(o.o_orderdate)),\n",
    "    ()\n",
    "    )\n",
    "order by Contexto, year, month"
   ]
  },
  {
   "cell_type": "markdown",
   "metadata": {
    "application/vnd.databricks.v1+cell": {
     "cellMetadata": {
      "byteLimit": 2048000,
      "rowLimit": 10000
     },
     "inputWidgets": {},
     "nuid": "d2a1ce9b-71bf-4a5b-97cb-8294aad4da03",
     "showTitle": false,
     "title": ""
    }
   },
   "source": [
    "### GROUP BY CUBE - Exemplo 1\n",
    "Segue a lógica do GROUPING SETS, porém, ele executa todas as possibilidades de uso das colunas disponíveis.  Exemplo você tem a coluna A, B e C, então ele fará:\n",
    "\n",
    "| Contexto  |    A    |  B    |  C    |\n",
    "|---------- | ------- |-------|------ |\n",
    "|  0        |  X      | X     | X     |\n",
    "|  1        |  X      | X     | NULL  |\n",
    "|  2        |  X      | NULL  | X     |\n",
    "|  3        |  X      | NULL  | NULL  |\n",
    "|  4        |  NULL   | X     | X     |\n",
    "|  5        |  NULL   | X     | NULL  |\n",
    "|  6        |  NULL   | NULL  | X     |\n",
    "|  7        |  NULL   | NULL  | NULL  |\n",
    "\n",
    "Obs.: X é onde está sendo realizado o agrupamento no momento do contexto."
   ]
  },
  {
   "cell_type": "code",
   "execution_count": 0,
   "metadata": {
    "application/vnd.databricks.v1+cell": {
     "cellMetadata": {
      "byteLimit": 2048000,
      "rowLimit": 10000
     },
     "collapsed": true,
     "inputWidgets": {},
     "nuid": "d7c20d55-7720-45a5-a780-af454c05c163",
     "showTitle": false,
     "title": ""
    }
   },
   "outputs": [],
   "source": [
    "select \n",
    "  GROUPING_ID(year(o.o_orderdate), month(o.o_orderdate)) as Contexto,\n",
    "  year(o.o_orderdate) as year,\n",
    "  month(o.o_orderdate) as month,\n",
    "  COUNT(DISTINCT li.l_orderkey) as total_orders,\n",
    "  COUNT(DISTINCT li.l_partkey) qtd_distinct_produtos,\n",
    "  SUM(li.l_extendedprice) as total_revenue\n",
    "from lineitem as li\n",
    "INNER JOIN orders as o ON o.o_orderkey = li.l_orderkey\n",
    "group by CUBE (year(o.o_orderdate), (month(o.o_orderdate)))\n",
    "order by Contexto, year, month"
   ]
  },
  {
   "cell_type": "markdown",
   "metadata": {
    "application/vnd.databricks.v1+cell": {
     "cellMetadata": {
      "byteLimit": 2048000,
      "rowLimit": 10000
     },
     "inputWidgets": {},
     "nuid": "50558466-fed9-42b6-9af8-4f0aa7971e04",
     "showTitle": false,
     "title": ""
    }
   },
   "source": [
    "### GROUP BY CUBE - Exemplo 2"
   ]
  },
  {
   "cell_type": "code",
   "execution_count": 0,
   "metadata": {
    "application/vnd.databricks.v1+cell": {
     "cellMetadata": {
      "byteLimit": 2048000,
      "rowLimit": 10000
     },
     "inputWidgets": {},
     "nuid": "60b1db33-7693-4b3a-80f2-23fcf6ad503e",
     "showTitle": false,
     "title": ""
    }
   },
   "outputs": [],
   "source": [
    "select \n",
    "  GROUPING_ID(year(o.o_orderdate), month(o.o_orderdate), pa.p_size) as Contexto,\n",
    "  year(o.o_orderdate) as year,\n",
    "  month(o.o_orderdate) as month,\n",
    "  pa.p_size as productsize,\n",
    "  COUNT(DISTINCT li.l_orderkey) as total_orders,\n",
    "  COUNT(DISTINCT li.l_partkey) qtd_distinct_produtos,\n",
    "  SUM(li.l_extendedprice) as total_revenue\n",
    "from lineitem as li\n",
    "INNER JOIN orders as o ON o.o_orderkey = li.l_orderkey\n",
    "INNER JOIN part as pa ON pa.p_partkey = li.l_partkey\n",
    "group by CUBE (year(o.o_orderdate), (month(o.o_orderdate)), pa.p_size)\n",
    "order by Contexto, year, month"
   ]
  },
  {
   "cell_type": "markdown",
   "metadata": {
    "application/vnd.databricks.v1+cell": {
     "cellMetadata": {
      "byteLimit": 2048000,
      "rowLimit": 10000
     },
     "inputWidgets": {},
     "nuid": "49bd1c8c-edbf-497c-9499-490f183617fb",
     "showTitle": false,
     "title": ""
    }
   },
   "source": [
    "### GROUP BY ROLLUP\n",
    "Segue a lógica do CUBE, porém, ele executa as possibilidades de uso das colunas disponíveis em uma sequencia conforme a ordem definida, exemplo você tem a coluna A, B e C, então ele fará:\n",
    "| Contexto  |    A    |  B    |  C    |\n",
    "|---------- | ------- |-------|------ |\n",
    "|  0        |  X      | X     | X     |\n",
    "|  1        |  X      | X     | NULL  |\n",
    "|  3        |  X      | NULL  | NULL  |\n",
    "|  7        |  NULL   | NULL  | NULL  |\n",
    "\n",
    "Obs.: X é onde está sendo realizado o agrupamento no momento do contexto."
   ]
  },
  {
   "cell_type": "code",
   "execution_count": 0,
   "metadata": {
    "application/vnd.databricks.v1+cell": {
     "cellMetadata": {
      "byteLimit": 2048000,
      "rowLimit": 10000
     },
     "inputWidgets": {},
     "nuid": "118263b9-c8a9-42a6-bb89-b1fbbcceddee",
     "showTitle": false,
     "title": ""
    }
   },
   "outputs": [],
   "source": [
    "select \n",
    "  GROUPING_ID(year(o.o_orderdate), month(o.o_orderdate), pa.p_size) as Contexto,\n",
    "  year(o.o_orderdate) as year,\n",
    "  month(o.o_orderdate) as month,\n",
    "  pa.p_size as productsize,\n",
    "  COUNT(DISTINCT li.l_orderkey) as total_orders,\n",
    "  COUNT(DISTINCT li.l_partkey) qtd_distinct_produtos,\n",
    "  SUM(li.l_extendedprice) as total_revenue\n",
    "from lineitem as li\n",
    "INNER JOIN orders as o ON o.o_orderkey = li.l_orderkey\n",
    "INNER JOIN part as pa ON pa.p_partkey = li.l_partkey\n",
    "group by ROLLUP (year(o.o_orderdate), (month(o.o_orderdate)), pa.p_size)\n",
    "order by Contexto, year, month, productsize"
   ]
  },
  {
   "cell_type": "markdown",
   "metadata": {
    "application/vnd.databricks.v1+cell": {
     "cellMetadata": {
      "byteLimit": 2048000,
      "rowLimit": 10000
     },
     "inputWidgets": {},
     "nuid": "ef4dd583-c1be-4203-9704-522abce1485b",
     "showTitle": false,
     "title": ""
    }
   },
   "source": [
    "# SELECT - Avançado"
   ]
  },
  {
   "cell_type": "code",
   "execution_count": 0,
   "metadata": {
    "application/vnd.databricks.v1+cell": {
     "cellMetadata": {
      "byteLimit": 2048000,
      "rowLimit": 10000
     },
     "inputWidgets": {},
     "nuid": "d56f8678-e6ff-4048-842e-8b38997bbe5b",
     "showTitle": false,
     "title": ""
    }
   },
   "outputs": [],
   "source": [
    "use samples.tpch"
   ]
  },
  {
   "cell_type": "markdown",
   "metadata": {
    "application/vnd.databricks.v1+cell": {
     "cellMetadata": {
      "byteLimit": 2048000,
      "rowLimit": 10000
     },
     "inputWidgets": {},
     "nuid": "efe548e3-42e6-480b-bcbe-e1735ea4cc7d",
     "showTitle": false,
     "title": ""
    }
   },
   "source": [
    "## 1. WINDOW FUNCTIONS"
   ]
  },
  {
   "cell_type": "markdown",
   "metadata": {
    "application/vnd.databricks.v1+cell": {
     "cellMetadata": {
      "byteLimit": 2048000,
      "rowLimit": 10000
     },
     "inputWidgets": {},
     "nuid": "a9b308fe-3557-4f5d-9bb9-58021fbc67fa",
     "showTitle": false,
     "title": ""
    }
   },
   "source": [
    "### Exemplo 1\n",
    "Este código SQL executa uma série de cálculos e agregações em dados de pedidos, agrupados por ano, mês e segmento de cliente. Aqui está uma análise concisa do que cada parte do código faz:\n",
    "\n",
    "**1. Subconsulta (d):**\n",
    "\n",
    "* Agrega dados de pedidos por ano, mês e segmento de cliente.\n",
    "* Une a tabela de pedidos (o) com a tabela de clientes (c) na chave do cliente.\n",
    "* Filtra pedidos para incluir apenas aqueles com status 'F'.\n",
    "* Calcula o preço total dos pedidos, o número de pedidos e o valor médio do pedido (ticket) para cada ano, mês e segmento.\n",
    "\n",
    "\n",
    "**2. Consulta principal:**\n",
    "\n",
    "* Seleciona vários campos da subconsulta (d):\n",
    "* year, monthno, segment, total_price e qty_orders (renomeados como orders).\n",
    "* Calcula o total corrente de pedidos por mês dentro de cada ano usando uma função de janela.\n",
    "* Calcula a porcentagem de pedidos para o mês do total corrente de pedidos para o ano.\n",
    "* Calcula o total corrente de pedidos por segmento dentro de cada ano.\n",
    "* Seleciona o valor do ticket.\n",
    "* Calcula o valor médio do ticket por mês dentro de cada ano.\n",
    "* Calcula os valores mínimo, médio e máximo do ticket por segmento.\n",
    "* Ordena o resultado final por ano, monthno e segmento."
   ]
  },
  {
   "cell_type": "code",
   "execution_count": 0,
   "metadata": {
    "application/vnd.databricks.v1+cell": {
     "cellMetadata": {
      "byteLimit": 2048000,
      "rowLimit": 10000
     },
     "inputWidgets": {},
     "nuid": "7a022de8-cfee-40d8-82b7-a215b52c4078",
     "showTitle": false,
     "title": ""
    }
   },
   "outputs": [],
   "source": [
    "SELECT \n",
    "  d.year, \n",
    "  d.monthno, \n",
    "  d.segment, \n",
    "  d.total_price, \n",
    "  d.qty_orders AS orders,\n",
    "  -- Calculate the running total of orders per month within each year\n",
    "  SUM(d.qty_orders) OVER (PARTITION BY d.year ORDER BY d.monthno) AS orders_month,\n",
    "  -- Calculate the percentage of orders for the month out of the running total of orders for the year\n",
    "  ROUND((orders / orders_month), 2) AS pct_month,\n",
    "  -- Calculate the running total of orders per segment within each year\n",
    "  SUM(d.qty_orders) OVER (PARTITION BY d.year ORDER BY d.monthno, d.segment) AS orders_run_month,\n",
    "  d.ticket,\n",
    "  -- Calculate the average ticket value per month within each year\n",
    "  ROUND(AVG(d.ticket) OVER (PARTITION BY d.year ORDER BY d.monthno), 2) AS ticket_avg_month,\n",
    "  -- Calculate the minimum ticket value per segment\n",
    "  ROUND(MIN(d.ticket) OVER (PARTITION BY d.segment), 2) AS ticket_min_segment,\n",
    "  -- Calculate the average ticket value per segment\n",
    "  ROUND(AVG(d.ticket) OVER (PARTITION BY d.segment), 2) AS ticket_avg_segment,\n",
    "  -- Calculate the maximum ticket value per segment\n",
    "  ROUND(MAX(d.ticket) OVER (PARTITION BY d.segment), 2) AS ticket_max_segment\n",
    "FROM (\n",
    "  -- Subquery to aggregate order data by year, month, and customer segment\n",
    "  SELECT \n",
    "    c.c_mktsegment AS segment,\n",
    "    YEAR(o.o_orderdate) AS year,\n",
    "    MONTH(o.o_orderdate) AS monthno,\n",
    "    SUM(o.o_totalprice) AS total_price, \n",
    "    COUNT(*) AS qty_orders,\n",
    "    -- Calculate the average order value (ticket)\n",
    "    ROUND(SUM(o.o_totalprice) / COUNT(*), 2) AS ticket\n",
    "  FROM orders AS o\n",
    "  INNER JOIN customer AS c ON c.c_custkey = o.o_custkey\n",
    "  WHERE o.o_orderstatus = 'F'\n",
    "  GROUP BY YEAR(o.o_orderdate), MONTH(o.o_orderdate), c.c_mktsegment\n",
    ") d\n",
    "ORDER BY d.year, d.monthno, d.segment"
   ]
  },
  {
   "cell_type": "markdown",
   "metadata": {
    "application/vnd.databricks.v1+cell": {
     "cellMetadata": {
      "byteLimit": 2048000,
      "rowLimit": 10000
     },
     "inputWidgets": {},
     "nuid": "24cafe22-4f03-4216-a93e-3bba1f1f7389",
     "showTitle": false,
     "title": ""
    }
   },
   "source": [
    "### Exemplo 2\n",
    "Este código fornece insights sobre o desempenho mensal de diferentes segmentos de mercado, incluindo como o valor médio do pedido (ticket) muda ao longo do tempo, tanto de mês para mês quanto de ano para ano."
   ]
  },
  {
   "cell_type": "code",
   "execution_count": 0,
   "metadata": {
    "application/vnd.databricks.v1+cell": {
     "cellMetadata": {
      "byteLimit": 2048000,
      "rowLimit": 10000
     },
     "inputWidgets": {},
     "nuid": "10e2b4e3-9ba3-4e86-aecf-6e2ba63798fd",
     "showTitle": false,
     "title": ""
    }
   },
   "outputs": [],
   "source": [
    "SELECT \n",
    "  d.period,  -- Period (year-month) of the order\n",
    "  d.year, \n",
    "  d.monthno, \n",
    "  d.segment, \n",
    "  d.total_price, \n",
    "  d.qty_orders AS orders,\n",
    "  d.ticket,\n",
    "  -- Previous month's ticket value within the same year and segment\n",
    "  LAG(d.ticket) OVER (PARTITION BY d.year, d.segment ORDER BY d.monthno) AS ticket_pm,\n",
    "  -- Variation from the previous month's ticket value\n",
    "  d.ticket - ticket_pm AS var_pm,\n",
    "  -- Ticket value from the same month in the previous year within the same segment\n",
    "  LAG(d.ticket, 12) OVER (PARTITION BY d.segment ORDER BY d.period) AS ticket_py,\n",
    "  -- Variation from the same month in the previous year's ticket value\n",
    "  d.ticket - ticket_py AS var_py\n",
    "FROM (\n",
    "  SELECT \n",
    "    c.c_mktsegment AS segment,\n",
    "    YEAR(o.o_orderdate) AS year,\n",
    "    MONTH(o.o_orderdate) AS monthno,\n",
    "    MAKE_DATE(year, monthno, 1) AS period,\n",
    "    SUM(o.o_totalprice) AS total_price, \n",
    "    COUNT(*) AS qty_orders,\n",
    "    ROUND(SUM(o.o_totalprice) / COUNT(*), 2) AS ticket\n",
    "  FROM orders AS o\n",
    "  INNER JOIN customer AS c ON c.c_custkey = o.o_custkey\n",
    "  WHERE o.o_orderstatus = 'F' AND o.o_orderdate < '1995-01-01'\n",
    "  GROUP BY YEAR(o.o_orderdate), MONTH(o.o_orderdate), c.c_mktsegment\n",
    ") d\n",
    "ORDER BY d.year, d.monthno, d.segment"
   ]
  },
  {
   "cell_type": "markdown",
   "metadata": {
    "application/vnd.databricks.v1+cell": {
     "cellMetadata": {},
     "inputWidgets": {},
     "nuid": "e8c71126-8349-4ff2-b764-2c66403d044d",
     "showTitle": false,
     "title": ""
    }
   },
   "source": [
    "### Exemplo 3"
   ]
  },
  {
   "cell_type": "markdown",
   "metadata": {
    "application/vnd.databricks.v1+cell": {
     "cellMetadata": {},
     "inputWidgets": {},
     "nuid": "8707066b-d997-4fc4-b017-2c516b15e0c2",
     "showTitle": false,
     "title": ""
    }
   },
   "source": [
    "#### Base"
   ]
  },
  {
   "cell_type": "code",
   "execution_count": 0,
   "metadata": {
    "application/vnd.databricks.v1+cell": {
     "cellMetadata": {
      "byteLimit": 2048000,
      "rowLimit": 10000
     },
     "inputWidgets": {},
     "nuid": "121c1c2c-40b1-4895-808e-bec0f4d1f2dc",
     "showTitle": false,
     "title": ""
    }
   },
   "outputs": [],
   "source": [
    "WITH cDados \n",
    "AS (\n",
    "    SELECT o.o_orderdate, \n",
    "    COUNT(*) qtd_orders\n",
    "    FROM orders AS o\n",
    "    GROUP BY o.o_orderdate\n",
    ")\n",
    "SELECT  \n",
    "  d.o_orderdate,\n",
    "  d.qtd_orders\n",
    "FROM cDados d"
   ]
  },
  {
   "cell_type": "markdown",
   "metadata": {
    "application/vnd.databricks.v1+cell": {
     "cellMetadata": {},
     "inputWidgets": {},
     "nuid": "4ae75221-4ff4-402b-ac01-d4274364b926",
     "showTitle": false,
     "title": ""
    }
   },
   "source": [
    "#### ROWS BETWEEN\n",
    "A consulta SQL abaixo calcula vários indicadores de pedidos ao longo do tempo, incluindo acumulados, médias móveis e variações diárias e semanais."
   ]
  },
  {
   "cell_type": "code",
   "execution_count": 0,
   "metadata": {
    "application/vnd.databricks.v1+cell": {
     "cellMetadata": {
      "byteLimit": 2048000,
      "rowLimit": 10000
     },
     "inputWidgets": {},
     "nuid": "5cc47fc2-a7d8-48dc-83a7-13311193f3f9",
     "showTitle": false,
     "title": ""
    }
   },
   "outputs": [],
   "source": [
    "WITH cDados \n",
    "AS (\n",
    "    SELECT o.o_orderdate, \n",
    "    COUNT(*) qtd_orders\n",
    "    FROM orders AS o\n",
    "    GROUP BY o.o_orderdate\n",
    ")\n",
    "SELECT  \n",
    "  d.o_orderdate,\n",
    "  d.qtd_orders,\n",
    "  SUM(d.qtd_orders) OVER (ORDER BY d.o_orderdate ROWS BETWEEN UNBOUNDED PRECEDING AND CURRENT ROW) orders_acumulado,\n",
    "  SUM(d.qtd_orders) OVER (ORDER BY d.o_orderdate ROWS BETWEEN 6 PRECEDING AND CURRENT ROW) AS orders_semana,\n",
    "  SUM(d.qtd_orders) OVER (ORDER BY d.o_orderdate ROWS BETWEEN 14 PRECEDING AND CURRENT ROW) AS orders_quinzena,\n",
    "  AVG(d.qtd_orders) OVER (ORDER BY d.o_orderdate ROWS BETWEEN 6 PRECEDING AND CURRENT ROW) AS media_movel_7_dias,\n",
    "  AVG(d.qtd_orders) OVER (ORDER BY d.o_orderdate ROWS BETWEEN 14 PRECEDING AND CURRENT ROW) AS media_movel_15_dias,  \n",
    "  d.qtd_orders - LAG(d.qtd_orders) OVER (ORDER BY d.o_orderdate) AS variacao_diaria,\n",
    "  d.qtd_orders - LAG(d.qtd_orders, 7) OVER (ORDER BY d.o_orderdate) AS variacao_semanal\n",
    "FROM cDados d"
   ]
  }
 ],
 "metadata": {
  "application/vnd.databricks.v1+notebook": {
   "dashboards": [],
   "environmentMetadata": {
    "base_environment": "",
    "client": "1"
   },
   "language": "sql",
   "notebookMetadata": {
    "pythonIndentUnit": 4
   },
   "notebookName": "databricks-sqlfundamental-demos",
   "widgets": {}
  }
 },
 "nbformat": 4,
 "nbformat_minor": 0
}
